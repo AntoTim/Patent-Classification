{
 "cells": [
  {
   "cell_type": "markdown",
   "id": "465494c1",
   "metadata": {},
   "source": [
    "### Introduction\n",
    "\n",
    "This notebook focuses on analyzing and processing patent data to extract meaningful insights and prepare it for advanced analysis. Patent datasets, rich in structured and unstructured information such as classification codes (CPC, IPC), claims, and descriptions, are crucial for understanding technological trends, innovation patterns, and intellectual property landscapes.\n",
    "\n",
    "The key objectives of this notebook include:\n",
    "1. **Data Exploration and Preparation**: Load, clean, and sample a large dataset for efficient processing.\n",
    "2. **Feature Extraction**: Extract relevant features such as classification codes and claims to enable structured analysis.\n",
    "3. **Text Processing**: Apply techniques like tokenization, TF-IDF, and embeddings to process unstructured text data.\n",
    "4. **Visualization and Metrics**: Generate insights by encoding multi-label classifications and evaluating model performance.\n",
    "\n",
    "By leveraging tools like Python libraries (e.g., pandas, sklearn, Keras) and techniques like MultiLabelBinarizer and TF-IDF, this notebook demonstrates how to handle complex datasets, transforming raw patent data into actionable knowledge for machine learning and other applications."
   ]
  },
  {
   "cell_type": "code",
   "execution_count": 1,
   "id": "783746af",
   "metadata": {
    "scrolled": true
   },
   "outputs": [
    {
     "name": "stdout",
     "output_type": "stream",
     "text": [
      "Requirement already satisfied: tensorflow in /opt/anaconda3/lib/python3.12/site-packages (2.16.2)\n",
      "Requirement already satisfied: pandas in /opt/anaconda3/lib/python3.12/site-packages (2.2.2)\n",
      "Requirement already satisfied: numpy in /opt/anaconda3/lib/python3.12/site-packages (1.26.4)\n",
      "Requirement already satisfied: keras in /opt/anaconda3/lib/python3.12/site-packages (3.6.0)\n",
      "Requirement already satisfied: scikit-learn in /opt/anaconda3/lib/python3.12/site-packages (1.5.1)\n",
      "Requirement already satisfied: matplotlib in /opt/anaconda3/lib/python3.12/site-packages (3.9.2)\n",
      "Requirement already satisfied: nltk in /opt/anaconda3/lib/python3.12/site-packages (3.9.1)\n",
      "Requirement already satisfied: keras-metrics in /opt/anaconda3/lib/python3.12/site-packages (1.1.0)\n",
      "Requirement already satisfied: beautifulsoup4 in /opt/anaconda3/lib/python3.12/site-packages (4.12.3)\n",
      "Requirement already satisfied: absl-py>=1.0.0 in /opt/anaconda3/lib/python3.12/site-packages (from tensorflow) (2.1.0)\n",
      "Requirement already satisfied: astunparse>=1.6.0 in /opt/anaconda3/lib/python3.12/site-packages (from tensorflow) (1.6.3)\n",
      "Requirement already satisfied: flatbuffers>=23.5.26 in /opt/anaconda3/lib/python3.12/site-packages (from tensorflow) (24.3.25)\n",
      "Requirement already satisfied: gast!=0.5.0,!=0.5.1,!=0.5.2,>=0.2.1 in /opt/anaconda3/lib/python3.12/site-packages (from tensorflow) (0.6.0)\n",
      "Requirement already satisfied: google-pasta>=0.1.1 in /opt/anaconda3/lib/python3.12/site-packages (from tensorflow) (0.2.0)\n",
      "Requirement already satisfied: h5py>=3.10.0 in /opt/anaconda3/lib/python3.12/site-packages (from tensorflow) (3.11.0)\n",
      "Requirement already satisfied: libclang>=13.0.0 in /opt/anaconda3/lib/python3.12/site-packages (from tensorflow) (18.1.1)\n",
      "Requirement already satisfied: ml-dtypes~=0.3.1 in /opt/anaconda3/lib/python3.12/site-packages (from tensorflow) (0.3.2)\n",
      "Requirement already satisfied: opt-einsum>=2.3.2 in /opt/anaconda3/lib/python3.12/site-packages (from tensorflow) (3.4.0)\n",
      "Requirement already satisfied: packaging in /opt/anaconda3/lib/python3.12/site-packages (from tensorflow) (24.1)\n",
      "Requirement already satisfied: protobuf!=4.21.0,!=4.21.1,!=4.21.2,!=4.21.3,!=4.21.4,!=4.21.5,<5.0.0dev,>=3.20.3 in /opt/anaconda3/lib/python3.12/site-packages (from tensorflow) (4.25.3)\n",
      "Requirement already satisfied: requests<3,>=2.21.0 in /opt/anaconda3/lib/python3.12/site-packages (from tensorflow) (2.32.3)\n",
      "Requirement already satisfied: setuptools in /opt/anaconda3/lib/python3.12/site-packages (from tensorflow) (75.1.0)\n",
      "Requirement already satisfied: six>=1.12.0 in /opt/anaconda3/lib/python3.12/site-packages (from tensorflow) (1.16.0)\n",
      "Requirement already satisfied: termcolor>=1.1.0 in /opt/anaconda3/lib/python3.12/site-packages (from tensorflow) (2.5.0)\n",
      "Requirement already satisfied: typing-extensions>=3.6.6 in /opt/anaconda3/lib/python3.12/site-packages (from tensorflow) (4.11.0)\n",
      "Requirement already satisfied: wrapt>=1.11.0 in /opt/anaconda3/lib/python3.12/site-packages (from tensorflow) (1.14.1)\n",
      "Requirement already satisfied: grpcio<2.0,>=1.24.3 in /opt/anaconda3/lib/python3.12/site-packages (from tensorflow) (1.68.0)\n",
      "Requirement already satisfied: tensorboard<2.17,>=2.16 in /opt/anaconda3/lib/python3.12/site-packages (from tensorflow) (2.16.2)\n",
      "Requirement already satisfied: python-dateutil>=2.8.2 in /opt/anaconda3/lib/python3.12/site-packages (from pandas) (2.9.0.post0)\n",
      "Requirement already satisfied: pytz>=2020.1 in /opt/anaconda3/lib/python3.12/site-packages (from pandas) (2024.1)\n",
      "Requirement already satisfied: tzdata>=2022.7 in /opt/anaconda3/lib/python3.12/site-packages (from pandas) (2023.3)\n",
      "Requirement already satisfied: rich in /opt/anaconda3/lib/python3.12/site-packages (from keras) (13.7.1)\n",
      "Requirement already satisfied: namex in /opt/anaconda3/lib/python3.12/site-packages (from keras) (0.0.8)\n",
      "Requirement already satisfied: optree in /opt/anaconda3/lib/python3.12/site-packages (from keras) (0.13.1)\n",
      "Requirement already satisfied: scipy>=1.6.0 in /opt/anaconda3/lib/python3.12/site-packages (from scikit-learn) (1.13.1)\n",
      "Requirement already satisfied: joblib>=1.2.0 in /opt/anaconda3/lib/python3.12/site-packages (from scikit-learn) (1.4.2)\n",
      "Requirement already satisfied: threadpoolctl>=3.1.0 in /opt/anaconda3/lib/python3.12/site-packages (from scikit-learn) (3.5.0)\n",
      "Requirement already satisfied: contourpy>=1.0.1 in /opt/anaconda3/lib/python3.12/site-packages (from matplotlib) (1.2.0)\n",
      "Requirement already satisfied: cycler>=0.10 in /opt/anaconda3/lib/python3.12/site-packages (from matplotlib) (0.11.0)\n",
      "Requirement already satisfied: fonttools>=4.22.0 in /opt/anaconda3/lib/python3.12/site-packages (from matplotlib) (4.51.0)\n",
      "Requirement already satisfied: kiwisolver>=1.3.1 in /opt/anaconda3/lib/python3.12/site-packages (from matplotlib) (1.4.4)\n",
      "Requirement already satisfied: pillow>=8 in /opt/anaconda3/lib/python3.12/site-packages (from matplotlib) (10.4.0)\n",
      "Requirement already satisfied: pyparsing>=2.3.1 in /opt/anaconda3/lib/python3.12/site-packages (from matplotlib) (3.1.2)\n",
      "Requirement already satisfied: click in /opt/anaconda3/lib/python3.12/site-packages (from nltk) (8.1.7)\n",
      "Requirement already satisfied: regex>=2021.8.3 in /opt/anaconda3/lib/python3.12/site-packages (from nltk) (2024.9.11)\n",
      "Requirement already satisfied: tqdm in /opt/anaconda3/lib/python3.12/site-packages (from nltk) (4.66.5)\n",
      "Requirement already satisfied: soupsieve>1.2 in /opt/anaconda3/lib/python3.12/site-packages (from beautifulsoup4) (2.5)\n",
      "Requirement already satisfied: wheel<1.0,>=0.23.0 in /opt/anaconda3/lib/python3.12/site-packages (from astunparse>=1.6.0->tensorflow) (0.44.0)\n",
      "Requirement already satisfied: charset-normalizer<4,>=2 in /opt/anaconda3/lib/python3.12/site-packages (from requests<3,>=2.21.0->tensorflow) (3.3.2)\n",
      "Requirement already satisfied: idna<4,>=2.5 in /opt/anaconda3/lib/python3.12/site-packages (from requests<3,>=2.21.0->tensorflow) (3.7)\n",
      "Requirement already satisfied: urllib3<3,>=1.21.1 in /opt/anaconda3/lib/python3.12/site-packages (from requests<3,>=2.21.0->tensorflow) (2.2.3)\n",
      "Requirement already satisfied: certifi>=2017.4.17 in /opt/anaconda3/lib/python3.12/site-packages (from requests<3,>=2.21.0->tensorflow) (2024.8.30)\n",
      "Requirement already satisfied: markdown>=2.6.8 in /opt/anaconda3/lib/python3.12/site-packages (from tensorboard<2.17,>=2.16->tensorflow) (3.4.1)\n",
      "Requirement already satisfied: tensorboard-data-server<0.8.0,>=0.7.0 in /opt/anaconda3/lib/python3.12/site-packages (from tensorboard<2.17,>=2.16->tensorflow) (0.7.2)\n",
      "Requirement already satisfied: werkzeug>=1.0.1 in /opt/anaconda3/lib/python3.12/site-packages (from tensorboard<2.17,>=2.16->tensorflow) (3.0.3)\n",
      "Requirement already satisfied: markdown-it-py>=2.2.0 in /opt/anaconda3/lib/python3.12/site-packages (from rich->keras) (2.2.0)\n",
      "Requirement already satisfied: pygments<3.0.0,>=2.13.0 in /opt/anaconda3/lib/python3.12/site-packages (from rich->keras) (2.15.1)\n",
      "Requirement already satisfied: mdurl~=0.1 in /opt/anaconda3/lib/python3.12/site-packages (from markdown-it-py>=2.2.0->rich->keras) (0.1.0)\n",
      "Requirement already satisfied: MarkupSafe>=2.1.1 in /opt/anaconda3/lib/python3.12/site-packages (from werkzeug>=1.0.1->tensorboard<2.17,>=2.16->tensorflow) (2.1.3)\n"
     ]
    }
   ],
   "source": [
    "# Install required packages\n",
    "!pip install tensorflow pandas numpy keras scikit-learn matplotlib nltk keras-metrics beautifulsoup4\n"
   ]
  },
  {
   "cell_type": "code",
   "execution_count": 2,
   "id": "d5e35c12",
   "metadata": {
    "scrolled": true
   },
   "outputs": [
    {
     "name": "stderr",
     "output_type": "stream",
     "text": [
      "2024-11-18 19:15:19.713198: I tensorflow/core/platform/cpu_feature_guard.cc:210] This TensorFlow binary is optimized to use available CPU instructions in performance-critical operations.\n",
      "To enable the following instructions: AVX2 FMA, in other operations, rebuild TensorFlow with the appropriate compiler flags.\n",
      "[nltk_data] Downloading package stopwords to\n",
      "[nltk_data]     /Users/antotim/nltk_data...\n",
      "[nltk_data]   Package stopwords is already up-to-date!\n",
      "[nltk_data] Downloading package punkt to /Users/antotim/nltk_data...\n",
      "[nltk_data]   Package punkt is already up-to-date!\n"
     ]
    }
   ],
   "source": [
    "# import packages \n",
    "import tensorflow as tf\n",
    "import pandas as pd  \n",
    "import numpy as np \n",
    "import gzip\n",
    "from keras.models import Sequential\n",
    "from keras.layers import LSTM, GRU, Dense, Activation, Dropout, Input, Embedding, Bidirectional, Reshape, Flatten, Conv1D, MaxPooling1D, MaxPool1D, GlobalMaxPool1D, SpatialDropout1D\n",
    "from keras.layers import concatenate\n",
    "from tensorflow.keras.preprocessing import text\n",
    "from keras import utils\n",
    "from keras import callbacks\n",
    "from keras import optimizers, models\n",
    "from sklearn import model_selection, preprocessing, metrics\n",
    "from keras.utils import to_categorical\n",
    "import matplotlib.pyplot as plt\n",
    "import keras_metrics\n",
    "\n",
    "import nltk\n",
    "from nltk.corpus import stopwords\n",
    "from nltk.tokenize import word_tokenize\n",
    "from nltk.stem import PorterStemmer\n",
    "\n",
    "import re\n",
    "import ast\n",
    "from bs4 import BeautifulSoup\n",
    "\n",
    "import warnings\n",
    "warnings.filterwarnings('ignore')\n",
    "\n",
    "nltk.download('stopwords')\n",
    "nltk.download('punkt')\n",
    "\n",
    "%matplotlib inline"
   ]
  },
  {
   "cell_type": "markdown",
   "id": "27e67de8",
   "metadata": {},
   "source": [
    "# Data Preparation"
   ]
  },
  {
   "cell_type": "markdown",
   "id": "7d80ac18-2e32-4ffe-9956-f7fbb75ce901",
   "metadata": {},
   "source": [
    "The code prepares and explores a patent dataset by loading a large CSV file and sampling 10,000 rows for manageable analysis. It displays key data fields, including application numbers, dates, classification codes, claims, and descriptions, providing a foundation for further processing and analysis."
   ]
  },
  {
   "cell_type": "code",
   "execution_count": 3,
   "id": "cb01e2a8",
   "metadata": {
    "scrolled": true
   },
   "outputs": [],
   "source": [
    "df = pd.read_csv('EFREI - LIPSTIP - 50k elements EPO.csv', sep=',', engine='python', on_bad_lines='skip')"
   ]
  },
  {
   "cell_type": "code",
   "execution_count": 4,
   "id": "836b34e4",
   "metadata": {},
   "outputs": [],
   "source": [
    "df = df.sample(n=10000)"
   ]
  },
  {
   "cell_type": "code",
   "execution_count": 5,
   "id": "647a420f",
   "metadata": {},
   "outputs": [
    {
     "data": {
      "text/html": [
       "<div>\n",
       "<style scoped>\n",
       "    .dataframe tbody tr th:only-of-type {\n",
       "        vertical-align: middle;\n",
       "    }\n",
       "\n",
       "    .dataframe tbody tr th {\n",
       "        vertical-align: top;\n",
       "    }\n",
       "\n",
       "    .dataframe thead th {\n",
       "        text-align: right;\n",
       "    }\n",
       "</style>\n",
       "<table border=\"1\" class=\"dataframe\">\n",
       "  <thead>\n",
       "    <tr style=\"text-align: right;\">\n",
       "      <th></th>\n",
       "      <th>Numéro d'application</th>\n",
       "      <th>Date d'application</th>\n",
       "      <th>Numero de publication</th>\n",
       "      <th>date de publication</th>\n",
       "      <th>CPC</th>\n",
       "      <th>IPC</th>\n",
       "      <th>claim</th>\n",
       "      <th>description</th>\n",
       "    </tr>\n",
       "  </thead>\n",
       "  <tbody>\n",
       "    <tr>\n",
       "      <th>7990</th>\n",
       "      <td>18170396</td>\n",
       "      <td>2018-05-02</td>\n",
       "      <td>3401562</td>\n",
       "      <td>2018-11-14</td>\n",
       "      <td>['F16C33-583', 'F16C33-3806', 'F16C19-26', 'F1...</td>\n",
       "      <td>['F16C33-58', 'F16C33-38', 'F16C33-66', 'F16C1...</td>\n",
       "      <td>&lt;!-- EPO &lt;DP n=\"20\"&gt; --&gt;&lt;claim id=\"c-en-0001\" ...</td>\n",
       "      <td>&lt;!-- EPO &lt;DP n=\"1\"&gt; --&gt;&lt;heading id=\"h0001\"&gt;&lt;b&gt;...</td>\n",
       "    </tr>\n",
       "    <tr>\n",
       "      <th>27806</th>\n",
       "      <td>20169267</td>\n",
       "      <td>2020-04-14</td>\n",
       "      <td>3896613</td>\n",
       "      <td>2021-10-20</td>\n",
       "      <td>['G06N20-00', 'G06V10-774', 'G06N3-04', 'G06N3...</td>\n",
       "      <td>['G06N3-00', 'G06V10-774']</td>\n",
       "      <td>&lt;!-- EPO &lt;DP n=\"20\"&gt; --&gt;&lt;claim id=\"c-en-0001\" ...</td>\n",
       "      <td>&lt;!-- EPO &lt;DP n=\"1\"&gt; --&gt;&lt;p id=\"p0001\" num=\"0001...</td>\n",
       "    </tr>\n",
       "    <tr>\n",
       "      <th>22123</th>\n",
       "      <td>19168754</td>\n",
       "      <td>2019-04-11</td>\n",
       "      <td>3557180</td>\n",
       "      <td>2019-10-23</td>\n",
       "      <td>['F41J5-06', 'G01L5-14', 'G01L9-0005', 'G01L1-...</td>\n",
       "      <td>['G01L9-00', 'F41J5-06', 'G01L5-14', 'G01L1-14']</td>\n",
       "      <td>&lt;!-- EPO &lt;DP n=\"16\"&gt; --&gt;&lt;claim id=\"c-en-0001\" ...</td>\n",
       "      <td>&lt;!-- EPO &lt;DP n=\"1\"&gt; --&gt;&lt;heading id=\"h0001\"&gt;BAC...</td>\n",
       "    </tr>\n",
       "    <tr>\n",
       "      <th>40117</th>\n",
       "      <td>17208285</td>\n",
       "      <td>2017-12-19</td>\n",
       "      <td>3339810</td>\n",
       "      <td>2018-06-27</td>\n",
       "      <td>['A61B5-01', 'G01D1-14', 'G01D1-18', 'A61B5-14...</td>\n",
       "      <td>['A61B5-00', 'G01D1-14', 'G01D1-18', 'H04L29-08']</td>\n",
       "      <td>&lt;!-- EPO &lt;DP n=\"37\"&gt; --&gt;&lt;claim id=\"c-en-0001\" ...</td>\n",
       "      <td>&lt;!-- EPO &lt;DP n=\"1\"&gt; --&gt;&lt;heading id=\"h0001\"&gt;&lt;u&gt;...</td>\n",
       "    </tr>\n",
       "    <tr>\n",
       "      <th>18432</th>\n",
       "      <td>18831506</td>\n",
       "      <td>2018-04-16</td>\n",
       "      <td>3653989</td>\n",
       "      <td>2020-05-20</td>\n",
       "      <td>['G01B11-24', 'A61C9-0053', 'A61C9-006', 'A61C...</td>\n",
       "      <td>['G01B11-00', 'G01B11-24', 'G01S17-89', 'G01C3...</td>\n",
       "      <td>&lt;!-- EPO &lt;DP n=\"60\"&gt; --&gt;&lt;claim id=\"c-en-0001\" ...</td>\n",
       "      <td>&lt;!-- EPO &lt;DP n=\"1\"&gt; --&gt;&lt;heading id=\"h0001\"&gt;TEC...</td>\n",
       "    </tr>\n",
       "  </tbody>\n",
       "</table>\n",
       "</div>"
      ],
      "text/plain": [
       "       Numéro d'application Date d'application  Numero de publication  \\\n",
       "7990               18170396         2018-05-02                3401562   \n",
       "27806              20169267         2020-04-14                3896613   \n",
       "22123              19168754         2019-04-11                3557180   \n",
       "40117              17208285         2017-12-19                3339810   \n",
       "18432              18831506         2018-04-16                3653989   \n",
       "\n",
       "      date de publication                                                CPC  \\\n",
       "7990           2018-11-14  ['F16C33-583', 'F16C33-3806', 'F16C19-26', 'F1...   \n",
       "27806          2021-10-20  ['G06N20-00', 'G06V10-774', 'G06N3-04', 'G06N3...   \n",
       "22123          2019-10-23  ['F41J5-06', 'G01L5-14', 'G01L9-0005', 'G01L1-...   \n",
       "40117          2018-06-27  ['A61B5-01', 'G01D1-14', 'G01D1-18', 'A61B5-14...   \n",
       "18432          2020-05-20  ['G01B11-24', 'A61C9-0053', 'A61C9-006', 'A61C...   \n",
       "\n",
       "                                                     IPC  \\\n",
       "7990   ['F16C33-58', 'F16C33-38', 'F16C33-66', 'F16C1...   \n",
       "27806                         ['G06N3-00', 'G06V10-774']   \n",
       "22123   ['G01L9-00', 'F41J5-06', 'G01L5-14', 'G01L1-14']   \n",
       "40117  ['A61B5-00', 'G01D1-14', 'G01D1-18', 'H04L29-08']   \n",
       "18432  ['G01B11-00', 'G01B11-24', 'G01S17-89', 'G01C3...   \n",
       "\n",
       "                                                   claim  \\\n",
       "7990   <!-- EPO <DP n=\"20\"> --><claim id=\"c-en-0001\" ...   \n",
       "27806  <!-- EPO <DP n=\"20\"> --><claim id=\"c-en-0001\" ...   \n",
       "22123  <!-- EPO <DP n=\"16\"> --><claim id=\"c-en-0001\" ...   \n",
       "40117  <!-- EPO <DP n=\"37\"> --><claim id=\"c-en-0001\" ...   \n",
       "18432  <!-- EPO <DP n=\"60\"> --><claim id=\"c-en-0001\" ...   \n",
       "\n",
       "                                             description  \n",
       "7990   <!-- EPO <DP n=\"1\"> --><heading id=\"h0001\"><b>...  \n",
       "27806  <!-- EPO <DP n=\"1\"> --><p id=\"p0001\" num=\"0001...  \n",
       "22123  <!-- EPO <DP n=\"1\"> --><heading id=\"h0001\">BAC...  \n",
       "40117  <!-- EPO <DP n=\"1\"> --><heading id=\"h0001\"><u>...  \n",
       "18432  <!-- EPO <DP n=\"1\"> --><heading id=\"h0001\">TEC...  "
      ]
     },
     "execution_count": 5,
     "metadata": {},
     "output_type": "execute_result"
    }
   ],
   "source": [
    "df.head()"
   ]
  },
  {
   "cell_type": "code",
   "execution_count": 6,
   "id": "02697f49",
   "metadata": {},
   "outputs": [
    {
     "data": {
      "text/plain": [
       "Index(['Numéro d'application', 'Date d'application', 'Numero de publication',\n",
       "       'date de publication', 'CPC', 'IPC', 'claim', 'description'],\n",
       "      dtype='object')"
      ]
     },
     "execution_count": 6,
     "metadata": {},
     "output_type": "execute_result"
    }
   ],
   "source": [
    "df.columns"
   ]
  },
  {
   "cell_type": "code",
   "execution_count": 7,
   "id": "a58efd29",
   "metadata": {},
   "outputs": [],
   "source": [
    "# Initialize stopwords and stemmer\n",
    "stop_words = set(stopwords.words('english'))\n",
    "stemmer = PorterStemmer()  # Initialize PorterStemmer for stemming"
   ]
  },
  {
   "cell_type": "code",
   "execution_count": 8,
   "id": "10a2fdc4",
   "metadata": {},
   "outputs": [],
   "source": [
    "# Function for text preprocessing\n",
    "def preprocess_text(text):\n",
    "\n",
    "    # Extract text from XML tags\n",
    "    soup = BeautifulSoup(text, \"lxml\")\n",
    "    clean_text = soup.get_text(separator=' ')\n",
    "\n",
    "    # Convert text to lowercase\n",
    "    clean_text = clean_text.lower()\n",
    "\n",
    "    # Remove punctuation and special characters\n",
    "    clean_text = re.sub(r'[^a-z0-9\\s]', '', clean_text)\n",
    "\n",
    "    # Specifically remove the word \"claim\"\n",
    "    clean_text = clean_text.replace('claim', '')\n",
    "\n",
    "    # Remove stop words\n",
    "    clean_text = ' '.join([word for word in clean_text.split() if word not in stop_words])\n",
    "\n",
    "    return clean_text\n"
   ]
  },
  {
   "cell_type": "code",
   "execution_count": 9,
   "id": "ce3763ca",
   "metadata": {},
   "outputs": [
    {
     "name": "stdout",
     "output_type": "stream",
     "text": [
      "Execution Time: 148.80 seconds\n"
     ]
    }
   ],
   "source": [
    "# Apply preprocessing\n",
    "\n",
    "import time\n",
    "\n",
    "start_time = time.time()\n",
    "\n",
    "df['claim'] = df['claim'].apply(preprocess_text)\n",
    "df['description'] = df['description'].apply(preprocess_text)\n",
    "\n",
    "elapsed_time = time.time() - start_time\n",
    "print(f\"Execution Time: {elapsed_time:.2f} seconds\")"
   ]
  },
  {
   "cell_type": "code",
   "execution_count": 10,
   "id": "ba870f66",
   "metadata": {},
   "outputs": [],
   "source": [
    "# Extract the required columns as DataFrames\n",
    "\n",
    "claim = df[['Numero de publication', 'claim']]\n",
    "desc = df[['Numero de publication', 'description']]\n",
    "cpc = df[['Numero de publication', 'CPC']]"
   ]
  },
  {
   "cell_type": "code",
   "execution_count": 11,
   "id": "9730275e",
   "metadata": {},
   "outputs": [],
   "source": [
    "# Concatenate the DataFrames on the 'doc_num' index\n",
    "\n",
    "X = pd.concat([claim.set_index('Numero de publication'), \n",
    "               desc.set_index('Numero de publication')], axis=1).sort_index()"
   ]
  },
  {
   "cell_type": "code",
   "execution_count": 12,
   "id": "c7dba526",
   "metadata": {},
   "outputs": [
    {
     "data": {
      "text/plain": [
       "(10000, 2)"
      ]
     },
     "execution_count": 12,
     "metadata": {},
     "output_type": "execute_result"
    }
   ],
   "source": [
    "X.shape"
   ]
  },
  {
   "cell_type": "code",
   "execution_count": 13,
   "id": "ee13e474",
   "metadata": {},
   "outputs": [
    {
     "data": {
      "text/html": [
       "<div>\n",
       "<style scoped>\n",
       "    .dataframe tbody tr th:only-of-type {\n",
       "        vertical-align: middle;\n",
       "    }\n",
       "\n",
       "    .dataframe tbody tr th {\n",
       "        vertical-align: top;\n",
       "    }\n",
       "\n",
       "    .dataframe thead th {\n",
       "        text-align: right;\n",
       "    }\n",
       "</style>\n",
       "<table border=\"1\" class=\"dataframe\">\n",
       "  <thead>\n",
       "    <tr style=\"text-align: right;\">\n",
       "      <th></th>\n",
       "      <th>claim</th>\n",
       "      <th>description</th>\n",
       "    </tr>\n",
       "    <tr>\n",
       "      <th>Numero de publication</th>\n",
       "      <th></th>\n",
       "      <th></th>\n",
       "    </tr>\n",
       "  </thead>\n",
       "  <tbody>\n",
       "    <tr>\n",
       "      <th>3189756</th>\n",
       "      <td>apparatus comprising housing first second side...</td>\n",
       "      <td>technical field specification relates generall...</td>\n",
       "    </tr>\n",
       "    <tr>\n",
       "      <th>3189866</th>\n",
       "      <td>pump comprising compression compartment config...</td>\n",
       "      <td>field invention present invention relates gene...</td>\n",
       "    </tr>\n",
       "    <tr>\n",
       "      <th>3189922</th>\n",
       "      <td>device 300 aperture 307 receiving tube 340 com...</td>\n",
       "      <td>field disclosure relates generally gas turbine...</td>\n",
       "    </tr>\n",
       "    <tr>\n",
       "      <th>3190141</th>\n",
       "      <td>polymer repeating unit structure represented f...</td>\n",
       "      <td>technical field disclosure relates polymer par...</td>\n",
       "    </tr>\n",
       "    <tr>\n",
       "      <th>3192446</th>\n",
       "      <td>bronchial piercing catheter assembly used navi...</td>\n",
       "      <td>background technical field present disclosure ...</td>\n",
       "    </tr>\n",
       "  </tbody>\n",
       "</table>\n",
       "</div>"
      ],
      "text/plain": [
       "                                                                   claim  \\\n",
       "Numero de publication                                                      \n",
       "3189756                apparatus comprising housing first second side...   \n",
       "3189866                pump comprising compression compartment config...   \n",
       "3189922                device 300 aperture 307 receiving tube 340 com...   \n",
       "3190141                polymer repeating unit structure represented f...   \n",
       "3192446                bronchial piercing catheter assembly used navi...   \n",
       "\n",
       "                                                             description  \n",
       "Numero de publication                                                     \n",
       "3189756                technical field specification relates generall...  \n",
       "3189866                field invention present invention relates gene...  \n",
       "3189922                field disclosure relates generally gas turbine...  \n",
       "3190141                technical field disclosure relates polymer par...  \n",
       "3192446                background technical field present disclosure ...  "
      ]
     },
     "execution_count": 13,
     "metadata": {},
     "output_type": "execute_result"
    }
   ],
   "source": [
    "X.head()"
   ]
  },
  {
   "cell_type": "code",
   "execution_count": 14,
   "id": "db74d48b",
   "metadata": {},
   "outputs": [],
   "source": [
    "# Function to extract unique elements from a string\n",
    "\n",
    "def extract_unique_elements(string_list):\n",
    "    try:\n",
    "        # Convert the string representing a list into a Python list\n",
    "        elements_list = ast.literal_eval(string_list)\n",
    "        # Use a set to remove duplicates and return a sorted list\n",
    "        unique_elements = sorted(set(elements_list))\n",
    "        # Extract the first character of each element\n",
    "        first_chars = sorted(set(element[0] for element in unique_elements))\n",
    "        # Return the list of first characters\n",
    "        return list(first_chars)\n",
    "    except ValueError:\n",
    "        # In case of an error, return an empty string or handle the error as needed\n",
    "        return ''\n",
    "\n"
   ]
  },
  {
   "cell_type": "code",
   "execution_count": 15,
   "id": "41b3eb11",
   "metadata": {},
   "outputs": [
    {
     "name": "stdout",
     "output_type": "stream",
     "text": [
      "7990           [F]\n",
      "27806          [G]\n",
      "22123       [F, G]\n",
      "40117    [A, G, H]\n",
      "18432       [A, G]\n",
      "Name: nbre_cpc, dtype: object\n"
     ]
    }
   ],
   "source": [
    "# Apply the extraction function to the column and create a new column in the DataFrame\n",
    "df['nbre_cpc'] = df['CPC'].apply(extract_unique_elements)\n",
    "\n",
    "# Display the first few rows of the new column\n",
    "print(df['nbre_cpc'].head())\n"
   ]
  },
  {
   "cell_type": "code",
   "execution_count": 16,
   "id": "8684ddba",
   "metadata": {},
   "outputs": [],
   "source": [
    "# Function to count the number of elements in a string representing a list\n",
    "\n",
    "def count_elements(string_list):\n",
    "    try:\n",
    "        # Convert the string representing a list into a Python list\n",
    "        elements_list = ast.literal_eval(string_list)\n",
    "        # Return the number of elements in the list\n",
    "        return len(elements_list)\n",
    "    except ValueError:\n",
    "        # In case of an error, return 0 or handle the error as needed\n",
    "        return 0\n"
   ]
  },
  {
   "cell_type": "code",
   "execution_count": 17,
   "id": "9545288c",
   "metadata": {},
   "outputs": [
    {
     "name": "stdout",
     "output_type": "stream",
     "text": [
      "Maximum number of elements in the CPC column: 66\n"
     ]
    }
   ],
   "source": [
    "# Apply the counting function to the column and find the maximum\n",
    "max_elements = df['CPC'].apply(count_elements).max()\n",
    "\n",
    "# Display the maximum number of elements\n",
    "print(\"Maximum number of elements in the CPC column:\", max_elements)"
   ]
  },
  {
   "cell_type": "code",
   "execution_count": 18,
   "id": "e06d5da0",
   "metadata": {},
   "outputs": [
    {
     "name": "stdout",
     "output_type": "stream",
     "text": [
      "                      CPC_1 CPC_2 CPC_3 CPC_4 CPC_5\n",
      "Numero de publication                              \n",
      "3401562                   F                        \n",
      "3896613                   G                        \n",
      "3557180                   F     G                  \n",
      "3339810                   A     G     H            \n",
      "3653989                   A     G                  \n"
     ]
    }
   ],
   "source": [
    "# Create an empty DataFrame with the correct columns\n",
    "Y = pd.DataFrame(index=df['Numero de publication'])\n",
    "\n",
    "# Create columns for each unique element in nbre_cpc\n",
    "max_elements = df['nbre_cpc'].apply(len).max()\n",
    "for i in range(1, max_elements + 1):\n",
    "    Y[f'CPC_{i}'] = ''\n",
    "\n",
    "# Add elements into the corresponding columns\n",
    "for idx, row in df.iterrows():\n",
    "    for i, cpc_code in enumerate(row['nbre_cpc'], start=1):\n",
    "        Y.at[row['Numero de publication'], f'CPC_{i}'] = cpc_code\n",
    "\n",
    "# Display the resulting DataFrame Y\n",
    "print(Y.head())\n",
    "\n"
   ]
  },
  {
   "cell_type": "code",
   "execution_count": 19,
   "id": "5cc955d2",
   "metadata": {},
   "outputs": [
    {
     "data": {
      "text/plain": [
       "(10000, 5)"
      ]
     },
     "execution_count": 19,
     "metadata": {},
     "output_type": "execute_result"
    }
   ],
   "source": [
    "Y.shape"
   ]
  },
  {
   "cell_type": "code",
   "execution_count": 20,
   "id": "5df9b55c",
   "metadata": {},
   "outputs": [
    {
     "name": "stdout",
     "output_type": "stream",
     "text": [
      "0 documents with null claim\n",
      "0 documents with null description\n"
     ]
    }
   ],
   "source": [
    "# Data cleaning \n",
    "assert Y['CPC_1'].isnull().sum() == 0 # there is no document with \n",
    "\n",
    "print(\"{} documents with null claim\".format(X['claim'].isnull().sum()))\n",
    "print(\"{} documents with null description\".format(X['description'].isnull().sum()))\n",
    "\n",
    "# Removing documents with null sections (title and abstract)\n",
    "X_clean = X.dropna(how='any')\n",
    "null_idx = X[~X.index.isin(X_clean.index)].index # storing the removed indices (i.e. document numbers)\n",
    "assert X.shape[0] - null_idx.shape[0] == X_clean.shape[0] # making sure the row counts match\n",
    "\n",
    "# Removing the documents with null sections from the CPC as well \n",
    "Y_clean = Y.loc[X_clean.index]\n",
    "\n",
    "# Some checks\n",
    "assert X_clean.shape[0] == Y_clean.shape[0]\n",
    "assert ((Y_clean.index == X_clean.index)*1).sum() == X_clean.shape[0]\n",
    "\n",
    "# Lower-casing everything\n",
    "X_clean = X_clean.apply(lambda x: x.str.lower())\n",
    "Y_clean = Y_clean.apply(lambda x: x.str.lower())"
   ]
  },
  {
   "cell_type": "code",
   "execution_count": 21,
   "id": "ad38010b",
   "metadata": {},
   "outputs": [
    {
     "name": "stdout",
     "output_type": "stream",
     "text": [
      "(10000, 2)\n",
      "(10000, 5)\n"
     ]
    }
   ],
   "source": [
    "print(X_clean.shape)\n",
    "print(Y_clean.shape)"
   ]
  },
  {
   "cell_type": "code",
   "execution_count": 22,
   "id": "4ad1e83d",
   "metadata": {},
   "outputs": [
    {
     "data": {
      "text/html": [
       "<div>\n",
       "<style scoped>\n",
       "    .dataframe tbody tr th:only-of-type {\n",
       "        vertical-align: middle;\n",
       "    }\n",
       "\n",
       "    .dataframe tbody tr th {\n",
       "        vertical-align: top;\n",
       "    }\n",
       "\n",
       "    .dataframe thead th {\n",
       "        text-align: right;\n",
       "    }\n",
       "</style>\n",
       "<table border=\"1\" class=\"dataframe\">\n",
       "  <thead>\n",
       "    <tr style=\"text-align: right;\">\n",
       "      <th></th>\n",
       "      <th>claim</th>\n",
       "      <th>description</th>\n",
       "    </tr>\n",
       "    <tr>\n",
       "      <th>Numero de publication</th>\n",
       "      <th></th>\n",
       "      <th></th>\n",
       "    </tr>\n",
       "  </thead>\n",
       "  <tbody>\n",
       "    <tr>\n",
       "      <th>3189756</th>\n",
       "      <td>apparatus comprising housing first second side...</td>\n",
       "      <td>technical field specification relates generall...</td>\n",
       "    </tr>\n",
       "    <tr>\n",
       "      <th>3189866</th>\n",
       "      <td>pump comprising compression compartment config...</td>\n",
       "      <td>field invention present invention relates gene...</td>\n",
       "    </tr>\n",
       "    <tr>\n",
       "      <th>3189922</th>\n",
       "      <td>device 300 aperture 307 receiving tube 340 com...</td>\n",
       "      <td>field disclosure relates generally gas turbine...</td>\n",
       "    </tr>\n",
       "    <tr>\n",
       "      <th>3190141</th>\n",
       "      <td>polymer repeating unit structure represented f...</td>\n",
       "      <td>technical field disclosure relates polymer par...</td>\n",
       "    </tr>\n",
       "    <tr>\n",
       "      <th>3192446</th>\n",
       "      <td>bronchial piercing catheter assembly used navi...</td>\n",
       "      <td>background technical field present disclosure ...</td>\n",
       "    </tr>\n",
       "  </tbody>\n",
       "</table>\n",
       "</div>"
      ],
      "text/plain": [
       "                                                                   claim  \\\n",
       "Numero de publication                                                      \n",
       "3189756                apparatus comprising housing first second side...   \n",
       "3189866                pump comprising compression compartment config...   \n",
       "3189922                device 300 aperture 307 receiving tube 340 com...   \n",
       "3190141                polymer repeating unit structure represented f...   \n",
       "3192446                bronchial piercing catheter assembly used navi...   \n",
       "\n",
       "                                                             description  \n",
       "Numero de publication                                                     \n",
       "3189756                technical field specification relates generall...  \n",
       "3189866                field invention present invention relates gene...  \n",
       "3189922                field disclosure relates generally gas turbine...  \n",
       "3190141                technical field disclosure relates polymer par...  \n",
       "3192446                background technical field present disclosure ...  "
      ]
     },
     "execution_count": 22,
     "metadata": {},
     "output_type": "execute_result"
    }
   ],
   "source": [
    "X_clean.head()"
   ]
  },
  {
   "cell_type": "code",
   "execution_count": 23,
   "id": "37535b6f",
   "metadata": {},
   "outputs": [
    {
     "data": {
      "text/html": [
       "<div>\n",
       "<style scoped>\n",
       "    .dataframe tbody tr th:only-of-type {\n",
       "        vertical-align: middle;\n",
       "    }\n",
       "\n",
       "    .dataframe tbody tr th {\n",
       "        vertical-align: top;\n",
       "    }\n",
       "\n",
       "    .dataframe thead th {\n",
       "        text-align: right;\n",
       "    }\n",
       "</style>\n",
       "<table border=\"1\" class=\"dataframe\">\n",
       "  <thead>\n",
       "    <tr style=\"text-align: right;\">\n",
       "      <th></th>\n",
       "      <th>CPC_1</th>\n",
       "      <th>CPC_2</th>\n",
       "      <th>CPC_3</th>\n",
       "      <th>CPC_4</th>\n",
       "      <th>CPC_5</th>\n",
       "    </tr>\n",
       "    <tr>\n",
       "      <th>Numero de publication</th>\n",
       "      <th></th>\n",
       "      <th></th>\n",
       "      <th></th>\n",
       "      <th></th>\n",
       "      <th></th>\n",
       "    </tr>\n",
       "  </thead>\n",
       "  <tbody>\n",
       "    <tr>\n",
       "      <th>3189756</th>\n",
       "      <td>a</td>\n",
       "      <td>f</td>\n",
       "      <td></td>\n",
       "      <td></td>\n",
       "      <td></td>\n",
       "    </tr>\n",
       "    <tr>\n",
       "      <th>3189866</th>\n",
       "      <td>a</td>\n",
       "      <td></td>\n",
       "      <td></td>\n",
       "      <td></td>\n",
       "      <td></td>\n",
       "    </tr>\n",
       "    <tr>\n",
       "      <th>3189922</th>\n",
       "      <td>b</td>\n",
       "      <td></td>\n",
       "      <td></td>\n",
       "      <td></td>\n",
       "      <td></td>\n",
       "    </tr>\n",
       "    <tr>\n",
       "      <th>3190141</th>\n",
       "      <td>c</td>\n",
       "      <td></td>\n",
       "      <td></td>\n",
       "      <td></td>\n",
       "      <td></td>\n",
       "    </tr>\n",
       "    <tr>\n",
       "      <th>3192446</th>\n",
       "      <td>a</td>\n",
       "      <td></td>\n",
       "      <td></td>\n",
       "      <td></td>\n",
       "      <td></td>\n",
       "    </tr>\n",
       "  </tbody>\n",
       "</table>\n",
       "</div>"
      ],
      "text/plain": [
       "                      CPC_1 CPC_2 CPC_3 CPC_4 CPC_5\n",
       "Numero de publication                              \n",
       "3189756                   a     f                  \n",
       "3189866                   a                        \n",
       "3189922                   b                        \n",
       "3190141                   c                        \n",
       "3192446                   a                        "
      ]
     },
     "execution_count": 23,
     "metadata": {},
     "output_type": "execute_result"
    }
   ],
   "source": [
    "Y_clean.head()"
   ]
  },
  {
   "cell_type": "code",
   "execution_count": 24,
   "id": "68b340a8",
   "metadata": {},
   "outputs": [],
   "source": [
    "# Creating dataset \n",
    "data = pd.DataFrame()\n",
    "data = X_clean\n",
    "\n",
    "# Concat the text of all patent sections and join the labels\n",
    "# data['full_text'] = + X_clean['claim'] + \" \" + X_clean['desc']\n",
    "\n",
    "# Using only the first CPC  \n",
    "data['CPC_1'] = Y_clean['CPC_1'] \n",
    "\n",
    "# Using all labels, merging them in a list and removing None values\n",
    "data['CPC'] = Y_clean.values.tolist()\n",
    "data['CPC'] = data['CPC'].apply(lambda x: list(filter(None, x)))"
   ]
  },
  {
   "cell_type": "code",
   "execution_count": 25,
   "id": "8df1eb5f",
   "metadata": {
    "scrolled": true
   },
   "outputs": [
    {
     "data": {
      "text/html": [
       "<div>\n",
       "<style scoped>\n",
       "    .dataframe tbody tr th:only-of-type {\n",
       "        vertical-align: middle;\n",
       "    }\n",
       "\n",
       "    .dataframe tbody tr th {\n",
       "        vertical-align: top;\n",
       "    }\n",
       "\n",
       "    .dataframe thead th {\n",
       "        text-align: right;\n",
       "    }\n",
       "</style>\n",
       "<table border=\"1\" class=\"dataframe\">\n",
       "  <thead>\n",
       "    <tr style=\"text-align: right;\">\n",
       "      <th></th>\n",
       "      <th>claim</th>\n",
       "      <th>description</th>\n",
       "      <th>CPC_1</th>\n",
       "      <th>CPC</th>\n",
       "    </tr>\n",
       "    <tr>\n",
       "      <th>Numero de publication</th>\n",
       "      <th></th>\n",
       "      <th></th>\n",
       "      <th></th>\n",
       "      <th></th>\n",
       "    </tr>\n",
       "  </thead>\n",
       "  <tbody>\n",
       "    <tr>\n",
       "      <th>3189756</th>\n",
       "      <td>apparatus comprising housing first second side...</td>\n",
       "      <td>technical field specification relates generall...</td>\n",
       "      <td>a</td>\n",
       "      <td>[a, f]</td>\n",
       "    </tr>\n",
       "    <tr>\n",
       "      <th>3189866</th>\n",
       "      <td>pump comprising compression compartment config...</td>\n",
       "      <td>field invention present invention relates gene...</td>\n",
       "      <td>a</td>\n",
       "      <td>[a]</td>\n",
       "    </tr>\n",
       "    <tr>\n",
       "      <th>3189922</th>\n",
       "      <td>device 300 aperture 307 receiving tube 340 com...</td>\n",
       "      <td>field disclosure relates generally gas turbine...</td>\n",
       "      <td>b</td>\n",
       "      <td>[b]</td>\n",
       "    </tr>\n",
       "    <tr>\n",
       "      <th>3190141</th>\n",
       "      <td>polymer repeating unit structure represented f...</td>\n",
       "      <td>technical field disclosure relates polymer par...</td>\n",
       "      <td>c</td>\n",
       "      <td>[c]</td>\n",
       "    </tr>\n",
       "    <tr>\n",
       "      <th>3192446</th>\n",
       "      <td>bronchial piercing catheter assembly used navi...</td>\n",
       "      <td>background technical field present disclosure ...</td>\n",
       "      <td>a</td>\n",
       "      <td>[a]</td>\n",
       "    </tr>\n",
       "  </tbody>\n",
       "</table>\n",
       "</div>"
      ],
      "text/plain": [
       "                                                                   claim  \\\n",
       "Numero de publication                                                      \n",
       "3189756                apparatus comprising housing first second side...   \n",
       "3189866                pump comprising compression compartment config...   \n",
       "3189922                device 300 aperture 307 receiving tube 340 com...   \n",
       "3190141                polymer repeating unit structure represented f...   \n",
       "3192446                bronchial piercing catheter assembly used navi...   \n",
       "\n",
       "                                                             description  \\\n",
       "Numero de publication                                                      \n",
       "3189756                technical field specification relates generall...   \n",
       "3189866                field invention present invention relates gene...   \n",
       "3189922                field disclosure relates generally gas turbine...   \n",
       "3190141                technical field disclosure relates polymer par...   \n",
       "3192446                background technical field present disclosure ...   \n",
       "\n",
       "                      CPC_1     CPC  \n",
       "Numero de publication                \n",
       "3189756                   a  [a, f]  \n",
       "3189866                   a     [a]  \n",
       "3189922                   b     [b]  \n",
       "3190141                   c     [c]  \n",
       "3192446                   a     [a]  "
      ]
     },
     "execution_count": 25,
     "metadata": {},
     "output_type": "execute_result"
    }
   ],
   "source": [
    "data.head()"
   ]
  },
  {
   "cell_type": "markdown",
   "id": "30bcad4f",
   "metadata": {},
   "source": [
    "#  Encoding Labels with MultiLabelBinarizer"
   ]
  },
  {
   "cell_type": "markdown",
   "id": "e188b5fa-bb45-4f32-8f77-8876ae1dfeae",
   "metadata": {},
   "source": [
    "The MultiLabelBinarizer is used to transform a list of labels associated with each data instance into a binary matrix format. Each unique label is represented as a column, and the rows correspond to data instances. If a data instance contains a specific label, the corresponding column is marked with 1; otherwise, it is 0.\n",
    "\n",
    "This encoding is especially useful for:\n",
    "\n",
    "Multi-label classification tasks.\n",
    "Representing label data in a format suitable for machine learning algorithms."
   ]
  },
  {
   "cell_type": "code",
   "execution_count": 26,
   "id": "73128f1c",
   "metadata": {},
   "outputs": [
    {
     "data": {
      "text/plain": [
       "Numero de publication\n",
       "3189756    [a, f]\n",
       "3189866       [a]\n",
       "3189922       [b]\n",
       "3190141       [c]\n",
       "3192446       [a]\n",
       "Name: CPC, dtype: object"
      ]
     },
     "execution_count": 26,
     "metadata": {},
     "output_type": "execute_result"
    }
   ],
   "source": [
    "data['CPC'].head()"
   ]
  },
  {
   "cell_type": "code",
   "execution_count": 27,
   "id": "eaab1d3d",
   "metadata": {},
   "outputs": [],
   "source": [
    "# Converting labels into a binarized matrix with the labels as columns  and each patent document represented in one row\n",
    "mlb = preprocessing.MultiLabelBinarizer()\n",
    "cpc = mlb.fit_transform(data['CPC'])\n",
    "\n",
    "# Checking that the conversion worked as desired by verifying the counts of labels for each document prior and post \n",
    "assert data['CPC'].apply(lambda x: len(x)).values.sum() == np.array(pd.DataFrame(cpc).apply(lambda x: x.sum(),axis=1)).sum()"
   ]
  },
  {
   "cell_type": "code",
   "execution_count": 28,
   "id": "b4a395be",
   "metadata": {
    "scrolled": true
   },
   "outputs": [
    {
     "data": {
      "text/html": [
       "<div>\n",
       "<style scoped>\n",
       "    .dataframe tbody tr th:only-of-type {\n",
       "        vertical-align: middle;\n",
       "    }\n",
       "\n",
       "    .dataframe tbody tr th {\n",
       "        vertical-align: top;\n",
       "    }\n",
       "\n",
       "    .dataframe thead th {\n",
       "        text-align: right;\n",
       "    }\n",
       "</style>\n",
       "<table border=\"1\" class=\"dataframe\">\n",
       "  <thead>\n",
       "    <tr style=\"text-align: right;\">\n",
       "      <th></th>\n",
       "      <th>a</th>\n",
       "      <th>b</th>\n",
       "      <th>c</th>\n",
       "      <th>d</th>\n",
       "      <th>e</th>\n",
       "      <th>f</th>\n",
       "      <th>g</th>\n",
       "      <th>h</th>\n",
       "      <th>y</th>\n",
       "    </tr>\n",
       "  </thead>\n",
       "  <tbody>\n",
       "    <tr>\n",
       "      <th>0</th>\n",
       "      <td>1</td>\n",
       "      <td>0</td>\n",
       "      <td>0</td>\n",
       "      <td>0</td>\n",
       "      <td>0</td>\n",
       "      <td>1</td>\n",
       "      <td>0</td>\n",
       "      <td>0</td>\n",
       "      <td>0</td>\n",
       "    </tr>\n",
       "    <tr>\n",
       "      <th>1</th>\n",
       "      <td>1</td>\n",
       "      <td>0</td>\n",
       "      <td>0</td>\n",
       "      <td>0</td>\n",
       "      <td>0</td>\n",
       "      <td>0</td>\n",
       "      <td>0</td>\n",
       "      <td>0</td>\n",
       "      <td>0</td>\n",
       "    </tr>\n",
       "    <tr>\n",
       "      <th>2</th>\n",
       "      <td>0</td>\n",
       "      <td>1</td>\n",
       "      <td>0</td>\n",
       "      <td>0</td>\n",
       "      <td>0</td>\n",
       "      <td>0</td>\n",
       "      <td>0</td>\n",
       "      <td>0</td>\n",
       "      <td>0</td>\n",
       "    </tr>\n",
       "    <tr>\n",
       "      <th>3</th>\n",
       "      <td>0</td>\n",
       "      <td>0</td>\n",
       "      <td>1</td>\n",
       "      <td>0</td>\n",
       "      <td>0</td>\n",
       "      <td>0</td>\n",
       "      <td>0</td>\n",
       "      <td>0</td>\n",
       "      <td>0</td>\n",
       "    </tr>\n",
       "    <tr>\n",
       "      <th>4</th>\n",
       "      <td>1</td>\n",
       "      <td>0</td>\n",
       "      <td>0</td>\n",
       "      <td>0</td>\n",
       "      <td>0</td>\n",
       "      <td>0</td>\n",
       "      <td>0</td>\n",
       "      <td>0</td>\n",
       "      <td>0</td>\n",
       "    </tr>\n",
       "  </tbody>\n",
       "</table>\n",
       "</div>"
      ],
      "text/plain": [
       "   a  b  c  d  e  f  g  h  y\n",
       "0  1  0  0  0  0  1  0  0  0\n",
       "1  1  0  0  0  0  0  0  0  0\n",
       "2  0  1  0  0  0  0  0  0  0\n",
       "3  0  0  1  0  0  0  0  0  0\n",
       "4  1  0  0  0  0  0  0  0  0"
      ]
     },
     "execution_count": 28,
     "metadata": {},
     "output_type": "execute_result"
    }
   ],
   "source": [
    "cpc_df = pd.DataFrame(cpc, columns=mlb.classes_)  #.apply(lambda x: x.sum(),axis=1)\n",
    "cpc_df.head()"
   ]
  },
  {
   "cell_type": "code",
   "execution_count": 29,
   "id": "2942f440",
   "metadata": {},
   "outputs": [
    {
     "name": "stdout",
     "output_type": "stream",
     "text": [
      "We have 9 classes\n"
     ]
    }
   ],
   "source": [
    "print(\"We have {} classes\".format(len(mlb.classes_)))"
   ]
  },
  {
   "cell_type": "code",
   "execution_count": 30,
   "id": "574c3a0d",
   "metadata": {},
   "outputs": [
    {
     "data": {
      "text/plain": [
       "h    3214\n",
       "g    3021\n",
       "b    2452\n",
       "a    1582\n",
       "y    1374\n",
       "dtype: int64"
      ]
     },
     "execution_count": 30,
     "metadata": {},
     "output_type": "execute_result"
    }
   ],
   "source": [
    "# Checking how many times does each label (i.e. class) appear in the data \n",
    "# we observe that the classes are a little unbalanced \n",
    "\n",
    "pl = cpc_df.apply(lambda x: x.sum(),axis=0).sort_values(ascending=False)  #.plot.bar()\n",
    "pl.head()"
   ]
  },
  {
   "cell_type": "markdown",
   "id": "6dc42f8c",
   "metadata": {},
   "source": [
    "# Advanced text processing and TF_IDF"
   ]
  },
  {
   "cell_type": "raw",
   "id": "c4c88f61",
   "metadata": {},
   "source": [
    "The following processing was applied to data['full_text']:\n",
    "\n",
    "removing punctuation\n",
    "lowercasing (happened earlier no need to do it here)\n",
    "** Detect and Remove non-english documents - TO DO **\n",
    "removing stop words\n",
    "removing common / rare words (did not run this)\n",
    "lemmatization or stemming (we chose lemmatization)\n",
    "removing digits\n",
    "filtering 600 best words in each document based on tf_idf algorithm"
   ]
  },
  {
   "cell_type": "markdown",
   "id": "19bbec6e",
   "metadata": {},
   "source": [
    "## 1. Advanced Processing"
   ]
  },
  {
   "cell_type": "code",
   "execution_count": 31,
   "id": "fb6d73c2",
   "metadata": {},
   "outputs": [],
   "source": [
    "# Removing punctuation\n",
    "import re, string, timeit\n",
    "\n",
    "regex = re.compile('[%s]' % re.escape(string.punctuation), re.MULTILINE)\n",
    "\n",
    "data['claim'] = data['claim'].apply(lambda x : regex.sub(\"\", x))\n",
    "data['description'] = data['description'].apply(lambda x : regex.sub(\"\", x))"
   ]
  },
  {
   "cell_type": "code",
   "execution_count": 32,
   "id": "19dffeb8",
   "metadata": {},
   "outputs": [],
   "source": [
    "# Removing whitespace\n",
    "r = re.compile(r\"^\\s+\", re.MULTILINE)\n",
    "\n",
    "data['claim'] = data['claim'].apply(lambda x : r.sub(\"\", x))\n",
    "data['description'] = data['description'].apply(lambda x : r.sub(\"\", x))"
   ]
  },
  {
   "cell_type": "code",
   "execution_count": 33,
   "id": "036fa20d",
   "metadata": {},
   "outputs": [],
   "source": [
    "# Converting to lower - casing \n",
    "data['claim'] = data['claim'].apply(lambda x : x.lower())\n",
    "data['description'] = data['description'].apply(lambda x : x.lower())"
   ]
  },
  {
   "cell_type": "code",
   "execution_count": 34,
   "id": "44800edc",
   "metadata": {},
   "outputs": [],
   "source": [
    "# Removing URLs\n",
    "re_url = re.compile(r'^http\\S+', re.MULTILINE|re.UNICODE)\n",
    "\n",
    "data['claim'] = data['claim'].apply(lambda x : re_url.sub(\"\", x))\n",
    "data['description'] = data['description'].apply(lambda x : re_url.sub(\"\", x))"
   ]
  },
  {
   "cell_type": "code",
   "execution_count": 35,
   "id": "48c4e874",
   "metadata": {},
   "outputs": [],
   "source": [
    "# Removing text that has claim and a number\n",
    "r1 = re.compile(r'(?:claim\\S\\d+|claim\\S \\d+|claim \\d+|claims?)', re.MULTILINE|re.UNICODE)\n",
    "\n",
    "data['claim'] = data['claim'].apply(lambda x : r1.sub(\"\", x))\n",
    "data['description'] = data['description'].apply(lambda x : r1.sub(\"\", x))"
   ]
  },
  {
   "cell_type": "code",
   "execution_count": 36,
   "id": "e8011e30",
   "metadata": {},
   "outputs": [],
   "source": [
    "# Introducing space on either side of new line\n",
    "r2 = re.compile(r'.\\n', re.MULTILINE|re.UNICODE)\n",
    "\n",
    "data['claim'] = data['claim'].apply(lambda x : r2.sub(\" \\n \", x))\n",
    "data['description'] = data['description'].apply(lambda x : r2.sub(\" \\n \", x))"
   ]
  },
  {
   "cell_type": "code",
   "execution_count": 37,
   "id": "07287567",
   "metadata": {},
   "outputs": [],
   "source": [
    "# Removing temperature data such as 105°\n",
    "r2 = re.compile(r\"\\d+°?\", re.MULTILINE)\n",
    "\n",
    "data['claim'] = data['claim'].apply(lambda x : r2.sub(\"\", x))\n",
    "data['description'] = data['description'].apply(lambda x : r2.sub(\"\", x))"
   ]
  },
  {
   "cell_type": "code",
   "execution_count": 38,
   "id": "e1de73e1",
   "metadata": {},
   "outputs": [],
   "source": [
    "# Removing special characters \\xad\n",
    "r2 = re.compile(r\"\\xad\", re.MULTILINE)\n",
    "\n",
    "data['claim'] = data['claim'].apply(lambda x : r2.sub(\"\", x))\n",
    "data['description'] = data['description'].apply(lambda x : r2.sub(\"\", x))"
   ]
  },
  {
   "cell_type": "code",
   "execution_count": 39,
   "id": "9e404222",
   "metadata": {},
   "outputs": [],
   "source": [
    "# Removing special characters - '', and ¬,\n",
    "data['claim'] = data['claim'].str.replace('\\'','')\n",
    "data['description'] = data['description'].str.replace('\\'','')\n",
    "\n",
    "data['claim'] = data['claim'].str.replace('¬','')\n",
    "data['description'] = data['description'].str.replace('¬','')"
   ]
  },
  {
   "cell_type": "code",
   "execution_count": 40,
   "id": "0f542367",
   "metadata": {},
   "outputs": [],
   "source": [
    "# Removing special characters \"' and ¬\"\n",
    "r2 = re.compile(r\"[']\", re.MULTILINE)\n",
    "\n",
    "data['claim'] = data['claim'].apply(lambda x : r2.sub(\"\", x))\n",
    "data['description'] = data['description'].apply(lambda x : r2.sub(\"\", x))\n",
    "\n",
    "r2 = re.compile(r\"[¬]\", re.MULTILINE)\n",
    "\n",
    "data['claim'] = data['claim'].apply(lambda x : r2.sub(\"\", x))\n",
    "data['description'] = data['description'].apply(lambda x : r2.sub(\"\", x))"
   ]
  },
  {
   "cell_type": "code",
   "execution_count": 41,
   "id": "4637a3c5",
   "metadata": {},
   "outputs": [],
   "source": [
    "# Removing dots from the data\n",
    "r2 = re.compile(r\"[.]\", re.MULTILINE)\n",
    "\n",
    "data['claim'] = data['claim'].apply(lambda x : r2.sub(\"\", x))\n",
    "data['description'] = data['description'].apply(lambda x : r2.sub(\"\", x))"
   ]
  },
  {
   "cell_type": "code",
   "execution_count": 42,
   "id": "b474d712",
   "metadata": {},
   "outputs": [
    {
     "data": {
      "text/plain": [
       "Numero de publication\n",
       "3189756    apparatus comprising housing first second side...\n",
       "3189866    pump comprising compression compartment config...\n",
       "3189922    device  aperture  receiving tube  comprising i...\n",
       "3190141    polymer repeating unit structure represented f...\n",
       "3192446    bronchial piercing catheter assembly used navi...\n",
       "Name: full_text1, dtype: object"
      ]
     },
     "execution_count": 42,
     "metadata": {},
     "output_type": "execute_result"
    }
   ],
   "source": [
    "# Merging all the two sections\n",
    "\n",
    "data['full_text1'] = X_clean['claim'] +\" \\n \" + X_clean['description']\n",
    "\n",
    "\n",
    "data['full_text1'].head()"
   ]
  },
  {
   "cell_type": "markdown",
   "id": "a2c2713e",
   "metadata": {},
   "source": [
    "# Use Keras tokenizer to create sequences / tokens of the text"
   ]
  },
  {
   "cell_type": "markdown",
   "id": "7d79d8e5-091a-454e-8c42-8a536c4e077b",
   "metadata": {},
   "source": [
    "The Keras Tokenizer is used to convert text data into sequences of integers (tokens), which are easier for machine learning models to process. It works by:\n",
    "\n",
    "- Tokenizing: Splitting the text into words (tokens) and assigning each unique word a numeric index.\n",
    "\n",
    "- Encoding: Converting the text into sequences of integers based on the assigned indices.\n",
    "\n",
    "- Padding/Truncating: Adjusting the length of sequences to ensure uniformity."
   ]
  },
  {
   "cell_type": "code",
   "execution_count": 43,
   "id": "81ee2a34",
   "metadata": {},
   "outputs": [
    {
     "name": "stdout",
     "output_type": "stream",
     "text": [
      "Number of words in our vocabulary: 208026\n"
     ]
    }
   ],
   "source": [
    "token = text.Tokenizer(filters='.°™\\'¯⊘■®') # num_words=sequence_length lower=True\n",
    "token.fit_on_texts(data['full_text1'])\n",
    "word_index = token.word_index\n",
    "print('Number of words in our vocabulary: {}'.format(len(word_index.keys())))"
   ]
  },
  {
   "cell_type": "code",
   "execution_count": 44,
   "id": "9149ee78",
   "metadata": {},
   "outputs": [],
   "source": [
    "# Converting the full text to sequences and then back to text.\n",
    "# This helps in getting the cleaned text after applying filters that used in the keras tokenizer\n",
    "\n",
    "data_full_text_seq = token.texts_to_sequences(data['full_text1'])\n",
    "data_full_text_txt = token.sequences_to_texts(data_full_text_seq)"
   ]
  },
  {
   "cell_type": "markdown",
   "id": "693b6192",
   "metadata": {},
   "source": [
    "# Create Word embeddings using CBOW (Word2vec) "
   ]
  },
  {
   "cell_type": "markdown",
   "id": "a8d052c3",
   "metadata": {},
   "source": [
    "The Continuous Bag of Words (CBOW) model, part of Word2Vec, creates word embeddings by predicting a target word based on its surrounding context words. The process involves:\n",
    "\n",
    "- Input: A window of context words (e.g., words surrounding the target word).\n",
    "\n",
    "- Output: A dense vector representation (embedding) for each word, capturing semantic meanings and relationships.\n",
    "\n",
    "- Training: The model adjusts embeddings so that similar words (e.g., synonyms or related concepts) have closer vector representations."
   ]
  },
  {
   "cell_type": "markdown",
   "id": "db29462c",
   "metadata": {},
   "source": [
    "## Create input text for the word embedding algorithm"
   ]
  },
  {
   "cell_type": "code",
   "execution_count": 45,
   "id": "1ee57789",
   "metadata": {},
   "outputs": [
    {
     "name": "stderr",
     "output_type": "stream",
     "text": [
      "100%|████████████████████████████████████| 10000/10000 [00:39<00:00, 252.37it/s]\n"
     ]
    }
   ],
   "source": [
    "from nltk.tokenize import WordPunctTokenizer\n",
    "from collections import Counter\n",
    "from string import punctuation, ascii_lowercase\n",
    "import re\n",
    "from tqdm import tqdm\n",
    "vocab = Counter()\n",
    "tokenizer_word = WordPunctTokenizer()\n",
    "\n",
    "\n",
    "def text_to_wordlist(text):\n",
    "    \n",
    "   # Tokenize\n",
    "    text = tokenizer_word.tokenize(text)\n",
    "    \n",
    "   # Return a list of words\n",
    "    vocab.update(text)\n",
    "    return text\n",
    "\n",
    "def process_comments(list_sentences, lower=False):\n",
    "    comments = []\n",
    "    for text in tqdm(list_sentences):\n",
    "        txt = text_to_wordlist(text)\n",
    "        comments.append(txt)\n",
    "    return comments\n",
    "CBOW_input_full_text = process_comments(data_full_text_txt)"
   ]
  },
  {
   "cell_type": "markdown",
   "id": "8bcc4175",
   "metadata": {},
   "source": [
    "# Gensim Word2Vec - CBOW Model"
   ]
  },
  {
   "cell_type": "code",
   "execution_count": 46,
   "id": "000af5f6",
   "metadata": {
    "scrolled": true
   },
   "outputs": [
    {
     "name": "stdout",
     "output_type": "stream",
     "text": [
      "Number of word vectors: 208025\n",
      "CPU times: user 11min, sys: 14.1 s, total: 11min 14s\n",
      "Wall time: 3min 24s\n"
     ]
    }
   ],
   "source": [
    "%%time\n",
    "\n",
    "import time\n",
    "import datetime\n",
    "from gensim.models import Word2Vec\n",
    "\n",
    "model = Word2Vec(sentences=CBOW_input_full_text,\n",
    "                 window=5,\n",
    "                 vector_size=100,\n",
    "                 min_count=1,  # Adjust min_count based on your data\n",
    "                 workers=16,   # Adjust workers based on your system\n",
    "                 sg=0)         # sg=0 for CBOW, sg=1 for skip-gram\n",
    "\n",
    "# Accessing word vectors\n",
    "word_vectors = model.wv\n",
    "\n",
    "# Example to get the number of word vectors\n",
    "num_word_vectors = len(model.wv.key_to_index)\n",
    "print(\"Number of word vectors: {}\".format(num_word_vectors))\n",
    "\n",
    "time.sleep(1)"
   ]
  },
  {
   "cell_type": "markdown",
   "id": "40e4e4fc",
   "metadata": {},
   "source": [
    "## Create embedding matrix "
   ]
  },
  {
   "cell_type": "code",
   "execution_count": 47,
   "id": "e00374a4",
   "metadata": {},
   "outputs": [],
   "source": [
    "# Create embedding matrix\n",
    "embedding_dim = 100\n",
    "embedding_matrix = np.zeros((len(word_index) + 1, embedding_dim))\n",
    "for word, i in word_index.items():\n",
    "    if word in vocab:    \n",
    "        embedding_vector = word_vectors[word]\n",
    "    else:\n",
    "        embedding_vector = None\n",
    "    \n",
    "    if embedding_vector is not None:\n",
    "        # words not found in embedding index will be all-zeros.\n",
    "        embedding_matrix[i] = embedding_vector"
   ]
  },
  {
   "cell_type": "code",
   "execution_count": 48,
   "id": "d1aef15a",
   "metadata": {},
   "outputs": [
    {
     "data": {
      "text/plain": [
       "(208027, 100)"
      ]
     },
     "execution_count": 48,
     "metadata": {},
     "output_type": "execute_result"
    }
   ],
   "source": [
    "embedding_matrix.shape"
   ]
  },
  {
   "cell_type": "markdown",
   "id": "966c8928",
   "metadata": {},
   "source": [
    "# TF IDF Methodology to extract important words "
   ]
  },
  {
   "cell_type": "markdown",
   "id": "36cbca7d",
   "metadata": {},
   "source": [
    "The TF-IDF (Term Frequency-Inverse Document Frequency) methodology identifies important words in a document by measuring their relevance in relation to a collection of documents. It works in two steps:\n",
    "\n",
    "- Term Frequency (TF): Measures how often a word appears in a document.\n",
    "\n",
    "- Inverse Document Frequency (IDF): Reduces the weight of common words by measuring how often a word appears across all documents.\n",
    "\n",
    "TF-IDF Score: Combines TF and IDF to highlight words that are frequent in a document but rare in the corpus."
   ]
  },
  {
   "cell_type": "code",
   "execution_count": 49,
   "id": "d93ab797",
   "metadata": {},
   "outputs": [],
   "source": [
    "# Initialize a TFIDF Vecxtorizer and pass the preprocessed full text\n",
    "\n",
    "from sklearn.feature_extraction.text import TfidfVectorizer\n",
    "\n",
    "\n",
    "\n",
    "tfidf = TfidfVectorizer(lowercase=True, analyzer='word', smooth_idf=False, sublinear_tf=False, norm=None,\n",
    "                        stop_words='english', ngram_range=(1,1)) \n",
    "\n",
    "text_transformed = tfidf.fit_transform(data['full_text1'])"
   ]
  },
  {
   "cell_type": "code",
   "execution_count": 50,
   "id": "a8325aaf",
   "metadata": {},
   "outputs": [],
   "source": [
    "# Transform the data for claim and description using TFIDF model \n",
    "# store the TFIDF values for the words for each of the sections\n",
    "\n",
    "claim_tfidf =  tfidf.transform(data['claim'])\n",
    "desc_tfidf =  tfidf.transform(data['description'])"
   ]
  },
  {
   "cell_type": "code",
   "execution_count": 51,
   "id": "54dfa834",
   "metadata": {},
   "outputs": [],
   "source": [
    "# Initialize dataframes to store top words based on TF IDF for each of the sections.\n",
    "\n",
    "col_names =  ['i','top_words']\n",
    "max_length = 150\n",
    "claim_top_words  = pd.DataFrame(columns = col_names)\n",
    "desc_top_words  = pd.DataFrame(columns = col_names)"
   ]
  },
  {
   "cell_type": "markdown",
   "id": "4f96541f",
   "metadata": {},
   "source": [
    "## Get top words for Claim using TFIDF\n",
    " "
   ]
  },
  {
   "cell_type": "code",
   "execution_count": 52,
   "id": "65924ada",
   "metadata": {},
   "outputs": [
    {
     "name": "stderr",
     "output_type": "stream",
     "text": [
      "100%|████████████████████████████████████| 10000/10000 [00:40<00:00, 245.40it/s]\n"
     ]
    }
   ],
   "source": [
    "feature_names = np.array(tfidf.get_feature_names_out())\n",
    "\n",
    "for i in tqdm(range(text_transformed.shape[0])):\n",
    "    f_index = claim_tfidf[i,:].nonzero()[1]\n",
    "    tfid_score = zip(f_index,[claim_tfidf[i,x] for x in f_index])\n",
    "   \n",
    "    word = []\n",
    "    score = []\n",
    "\n",
    "    for w,s in [(feature_names[i],s) for i,s in tfid_score]:\n",
    "        word.append(w)\n",
    "        score.append(s)\n",
    "        \n",
    "    score = np.array(score)\n",
    "    word = np.array(word)\n",
    "    txt = \" \".join(word[(-score).argsort()[:max_length]])\n",
    "    claim_top_words.loc[len(claim_top_words)] = [i,txt]\n",
    "    "
   ]
  },
  {
   "cell_type": "markdown",
   "id": "30e96d55",
   "metadata": {},
   "source": [
    "## Get top words for description using TFIDF "
   ]
  },
  {
   "cell_type": "code",
   "execution_count": 53,
   "id": "503386d0",
   "metadata": {},
   "outputs": [
    {
     "name": "stderr",
     "output_type": "stream",
     "text": [
      "100%|█████████████████████████████████████| 10000/10000 [03:01<00:00, 55.18it/s]\n"
     ]
    }
   ],
   "source": [
    "for i in tqdm(range(text_transformed.shape[0])):\n",
    "    f_index = desc_tfidf[i,:].nonzero()[1]\n",
    "    tfid_score = zip(f_index,[desc_tfidf[i,x] for x in f_index])\n",
    "   \n",
    "    word = []\n",
    "    score = []\n",
    "\n",
    "    for w,s in [(feature_names[i],s) for i,s in tfid_score]:\n",
    "        word.append(w)\n",
    "        score.append(s)\n",
    "        \n",
    "    score = np.array(score)\n",
    "    word = np.array(word)\n",
    "    txt = \" \".join(word[(-score).argsort()[:max_length]])\n",
    "    desc_top_words.loc[len(desc_top_words)] = [i,txt]"
   ]
  },
  {
   "cell_type": "code",
   "execution_count": 54,
   "id": "6e995526",
   "metadata": {},
   "outputs": [
    {
     "data": {
      "text/html": [
       "<div>\n",
       "<style scoped>\n",
       "    .dataframe tbody tr th:only-of-type {\n",
       "        vertical-align: middle;\n",
       "    }\n",
       "\n",
       "    .dataframe tbody tr th {\n",
       "        vertical-align: top;\n",
       "    }\n",
       "\n",
       "    .dataframe thead th {\n",
       "        text-align: right;\n",
       "    }\n",
       "</style>\n",
       "<table border=\"1\" class=\"dataframe\">\n",
       "  <thead>\n",
       "    <tr style=\"text-align: right;\">\n",
       "      <th></th>\n",
       "      <th>i</th>\n",
       "      <th>top_words</th>\n",
       "    </tr>\n",
       "  </thead>\n",
       "  <tbody>\n",
       "    <tr>\n",
       "      <th>0</th>\n",
       "      <td>0</td>\n",
       "      <td>arm drawer wheels wheel position second rollab...</td>\n",
       "    </tr>\n",
       "    <tr>\n",
       "      <th>1</th>\n",
       "      <td>1</td>\n",
       "      <td>responsively electrode fraction second fluid p...</td>\n",
       "    </tr>\n",
       "    <tr>\n",
       "      <th>2</th>\n",
       "      <td>2</td>\n",
       "      <td>braze necked diameter filler aperture portion ...</td>\n",
       "    </tr>\n",
       "    <tr>\n",
       "      <th>3</th>\n",
       "      <td>3</td>\n",
       "      <td>ar alkyl polymer independently ed unsubstitute...</td>\n",
       "    </tr>\n",
       "    <tr>\n",
       "      <th>4</th>\n",
       "      <td>4</td>\n",
       "      <td>catheter bronchial piercing tip member assembl...</td>\n",
       "    </tr>\n",
       "  </tbody>\n",
       "</table>\n",
       "</div>"
      ],
      "text/plain": [
       "   i                                          top_words\n",
       "0  0  arm drawer wheels wheel position second rollab...\n",
       "1  1  responsively electrode fraction second fluid p...\n",
       "2  2  braze necked diameter filler aperture portion ...\n",
       "3  3  ar alkyl polymer independently ed unsubstitute...\n",
       "4  4  catheter bronchial piercing tip member assembl..."
      ]
     },
     "execution_count": 54,
     "metadata": {},
     "output_type": "execute_result"
    }
   ],
   "source": [
    "claim_top_words.head()"
   ]
  },
  {
   "cell_type": "code",
   "execution_count": 55,
   "id": "66566170",
   "metadata": {},
   "outputs": [
    {
     "data": {
      "text/html": [
       "<div>\n",
       "<style scoped>\n",
       "    .dataframe tbody tr th:only-of-type {\n",
       "        vertical-align: middle;\n",
       "    }\n",
       "\n",
       "    .dataframe tbody tr th {\n",
       "        vertical-align: top;\n",
       "    }\n",
       "\n",
       "    .dataframe thead th {\n",
       "        text-align: right;\n",
       "    }\n",
       "</style>\n",
       "<table border=\"1\" class=\"dataframe\">\n",
       "  <thead>\n",
       "    <tr style=\"text-align: right;\">\n",
       "      <th></th>\n",
       "      <th>i</th>\n",
       "      <th>top_words</th>\n",
       "    </tr>\n",
       "  </thead>\n",
       "  <tbody>\n",
       "    <tr>\n",
       "      <th>0</th>\n",
       "      <td>0</td>\n",
       "      <td>drawer rollable arm wheels housing position mi...</td>\n",
       "    </tr>\n",
       "    <tr>\n",
       "      <th>1</th>\n",
       "      <td>1</td>\n",
       "      <td>irrigation compartment fluid paddle sack elect...</td>\n",
       "    </tr>\n",
       "    <tr>\n",
       "      <th>2</th>\n",
       "      <td>2</td>\n",
       "      <td>braze filler tube necked turbine aperture tap ...</td>\n",
       "    </tr>\n",
       "    <tr>\n",
       "      <th>3</th>\n",
       "      <td>3</td>\n",
       "      <td>ar polymer substituted polyarylene diradical a...</td>\n",
       "    </tr>\n",
       "    <tr>\n",
       "      <th>4</th>\n",
       "      <td>4</td>\n",
       "      <td>catheter ewc piercing bronchial biopsy tip bro...</td>\n",
       "    </tr>\n",
       "  </tbody>\n",
       "</table>\n",
       "</div>"
      ],
      "text/plain": [
       "   i                                          top_words\n",
       "0  0  drawer rollable arm wheels housing position mi...\n",
       "1  1  irrigation compartment fluid paddle sack elect...\n",
       "2  2  braze filler tube necked turbine aperture tap ...\n",
       "3  3  ar polymer substituted polyarylene diradical a...\n",
       "4  4  catheter ewc piercing bronchial biopsy tip bro..."
      ]
     },
     "execution_count": 55,
     "metadata": {},
     "output_type": "execute_result"
    }
   ],
   "source": [
    "desc_top_words.head()"
   ]
  },
  {
   "cell_type": "markdown",
   "id": "d10a6b68",
   "metadata": {},
   "source": [
    "# Create new datatable to store the top 150 words from each of the 2 sections"
   ]
  },
  {
   "cell_type": "code",
   "execution_count": 56,
   "id": "3ff56f18",
   "metadata": {},
   "outputs": [
    {
     "data": {
      "text/html": [
       "<div>\n",
       "<style scoped>\n",
       "    .dataframe tbody tr th:only-of-type {\n",
       "        vertical-align: middle;\n",
       "    }\n",
       "\n",
       "    .dataframe tbody tr th {\n",
       "        vertical-align: top;\n",
       "    }\n",
       "\n",
       "    .dataframe thead th {\n",
       "        text-align: right;\n",
       "    }\n",
       "</style>\n",
       "<table border=\"1\" class=\"dataframe\">\n",
       "  <thead>\n",
       "    <tr style=\"text-align: right;\">\n",
       "      <th></th>\n",
       "      <th>claim</th>\n",
       "      <th>description</th>\n",
       "    </tr>\n",
       "  </thead>\n",
       "  <tbody>\n",
       "    <tr>\n",
       "      <th>0</th>\n",
       "      <td>arm drawer wheels wheel position second rollab...</td>\n",
       "      <td>drawer rollable arm wheels housing position mi...</td>\n",
       "    </tr>\n",
       "    <tr>\n",
       "      <th>1</th>\n",
       "      <td>responsively electrode fraction second fluid p...</td>\n",
       "      <td>irrigation compartment fluid paddle sack elect...</td>\n",
       "    </tr>\n",
       "    <tr>\n",
       "      <th>2</th>\n",
       "      <td>braze necked diameter filler aperture portion ...</td>\n",
       "      <td>braze filler tube necked turbine aperture tap ...</td>\n",
       "    </tr>\n",
       "    <tr>\n",
       "      <th>3</th>\n",
       "      <td>ar alkyl polymer independently ed unsubstitute...</td>\n",
       "      <td>ar polymer substituted polyarylene diradical a...</td>\n",
       "    </tr>\n",
       "    <tr>\n",
       "      <th>4</th>\n",
       "      <td>catheter bronchial piercing tip member assembl...</td>\n",
       "      <td>catheter ewc piercing bronchial biopsy tip bro...</td>\n",
       "    </tr>\n",
       "  </tbody>\n",
       "</table>\n",
       "</div>"
      ],
      "text/plain": [
       "                                               claim  \\\n",
       "0  arm drawer wheels wheel position second rollab...   \n",
       "1  responsively electrode fraction second fluid p...   \n",
       "2  braze necked diameter filler aperture portion ...   \n",
       "3  ar alkyl polymer independently ed unsubstitute...   \n",
       "4  catheter bronchial piercing tip member assembl...   \n",
       "\n",
       "                                         description  \n",
       "0  drawer rollable arm wheels housing position mi...  \n",
       "1  irrigation compartment fluid paddle sack elect...  \n",
       "2  braze filler tube necked turbine aperture tap ...  \n",
       "3  ar polymer substituted polyarylene diradical a...  \n",
       "4  catheter ewc piercing bronchial biopsy tip bro...  "
      ]
     },
     "execution_count": 56,
     "metadata": {},
     "output_type": "execute_result"
    }
   ],
   "source": [
    "desc_top_words.columns = ['desc_no','description']\n",
    "claim_top_words.columns = ['claim_no','claim']\n",
    "\n",
    "\n",
    "Data_Final = pd.concat([claim_top_words['claim'], \n",
    "           desc_top_words['description']], axis=1).sort_index() \n",
    "\n",
    "Data_Final.head()"
   ]
  },
  {
   "cell_type": "markdown",
   "id": "10fb567f",
   "metadata": {},
   "source": [
    "# Test Train split"
   ]
  },
  {
   "cell_type": "code",
   "execution_count": 57,
   "id": "42f8a367",
   "metadata": {},
   "outputs": [
    {
     "name": "stdout",
     "output_type": "stream",
     "text": [
      "(8000, 2)\n",
      "(2000, 2)\n",
      "(8000, 9)\n",
      "(2000, 9)\n"
     ]
    }
   ],
   "source": [
    "# Train test split \n",
    "\n",
    "X_train, X_test, Y_train, Y_test = model_selection.train_test_split(Data_Final, cpc, test_size=0.2)\n",
    "\n",
    "print(X_train.shape)\n",
    "print(X_test.shape)\n",
    "print(Y_train.shape)\n",
    "print(Y_test.shape)\n",
    "     "
   ]
  },
  {
   "cell_type": "markdown",
   "id": "9fa91275",
   "metadata": {},
   "source": [
    "# Padding train and test data and converting them to sequences"
   ]
  },
  {
   "cell_type": "code",
   "execution_count": 58,
   "id": "b6e0c36e",
   "metadata": {
    "scrolled": true
   },
   "outputs": [
    {
     "name": "stdout",
     "output_type": "stream",
     "text": [
      "(8000, 150)\n",
      "(2000, 150)\n"
     ]
    }
   ],
   "source": [
    "# Transforming text documents to sequence of tokens and padding them to ensure equal length vectors\n",
    "# Choosing the median document length as max length for padding\n",
    "\n",
    "from tensorflow.keras.preprocessing import sequence\n",
    "\n",
    "sequence_length = 150\n",
    "\n",
    "# Creating Input matrix for the two sections for train and test\n",
    "\n",
    "X_train_claim_seq = sequence.pad_sequences(token.texts_to_sequences(X_train['claim']), maxlen=sequence_length)\n",
    "\n",
    "X_train_desc_seq = sequence.pad_sequences(token.texts_to_sequences(X_train['description']), maxlen=sequence_length)\n",
    "\n",
    "\n",
    "\n",
    "\n",
    "X_test_claim_seq = sequence.pad_sequences(token.texts_to_sequences(X_test['claim']), maxlen=sequence_length)\n",
    "\n",
    "X_test_desc_seq = sequence.pad_sequences(token.texts_to_sequences(X_test['description']), maxlen=sequence_length)\n",
    "\n",
    "\n",
    "\n",
    "print(X_train_claim_seq.shape)\n",
    "print(X_test_claim_seq.shape)"
   ]
  },
  {
   "cell_type": "markdown",
   "id": "9dd6825d",
   "metadata": {},
   "source": [
    "# Hyper parameters for CNN - BILSTM Model"
   ]
  },
  {
   "cell_type": "code",
   "execution_count": 59,
   "id": "80273eb4",
   "metadata": {},
   "outputs": [],
   "source": [
    "vocabulary_size = embedding_matrix.shape[0]\n",
    "sequence_length = sequence_length\n",
    "embedding_dim = embedding_matrix.shape[1]\n",
    "num_filters = 128\n",
    "kernel_size = 3\n",
    "pool_size = 4\n",
    "units = Y_train.shape[1]  # we need the output nodes to equal the number of classes (96)\n",
    "lstm_units = 128\n",
    "\n",
    "learning_rate = 0.001\n",
    "\n",
    "# Define Training Parameters \n",
    "\n",
    "batch_size = 100\n",
    "epochs = 20"
   ]
  },
  {
   "cell_type": "markdown",
   "id": "184944b3",
   "metadata": {},
   "source": [
    "# CNN - BILSTM Model"
   ]
  },
  {
   "cell_type": "code",
   "execution_count": 60,
   "id": "36de70b1",
   "metadata": {},
   "outputs": [],
   "source": [
    "from tensorflow.keras.layers import Input, Embedding, Conv1D, concatenate, Bidirectional, LSTM, Dense\n",
    "from tensorflow.keras import models, optimizers\n",
    "\n",
    "def CNN_BiLSTM_model(sequence_length, vocabulary_size, embedding_dim, embedding_matrix, num_filters, kernel_size, lstm_units, units, learning_rate):\n",
    "    \n",
    "    # Claim Channel\n",
    "    input_layer2 = Input(shape=(sequence_length,), dtype='int32')\n",
    "    embedding_layer2 = Embedding(input_dim=vocabulary_size, output_dim=embedding_dim, input_length=sequence_length,\n",
    "                                weights=[embedding_matrix], trainable=False)(input_layer2)\n",
    "    conv_layer2 = Conv1D(num_filters, kernel_size=kernel_size, activation=\"relu\")(embedding_layer2)\n",
    "    dropout_layer2 = Dropout(0.5)(conv_layer2)\n",
    "    \n",
    "    # Desc Channel\n",
    "    input_layer4 = Input(shape=(sequence_length,), dtype='int32')\n",
    "    embedding_layer4 = Embedding(input_dim=vocabulary_size, output_dim=embedding_dim, input_length=sequence_length,\n",
    "                                weights=[embedding_matrix], trainable=False)(input_layer4)\n",
    "    conv_layer4 = Conv1D(num_filters, kernel_size=kernel_size, activation=\"relu\")(embedding_layer4)\n",
    "    dropout_layer4 = Dropout(0.5)(conv_layer4)\n",
    "    \n",
    "    # Concatenate or Merge\n",
    "    merged_concat = concatenate([dropout_layer2, dropout_layer4], axis=1)\n",
    "    \n",
    "    # Bi-LSTM layer\n",
    "    bilstm_layer = Bidirectional(LSTM(lstm_units, return_sequences=True))(merged_concat)\n",
    "    \n",
    "    # Global Max Pooling\n",
    "    pool_layer = GlobalMaxPool1D()(bilstm_layer)\n",
    "\n",
    "    # Output layer\n",
    "    output_layer = Dense(units=units, activation=\"sigmoid\")(pool_layer)\n",
    "\n",
    "    # Model compilation with optimizer and learning rate\n",
    "    optimizer = optimizers.Adam(learning_rate=learning_rate)  # Create optimizer instance with specified LR\n",
    "    model = models.Model(inputs=[input_layer2, input_layer4], outputs=output_layer)\n",
    "    model.compile(optimizer=optimizer,\n",
    "                  loss='binary_crossentropy',\n",
    "                  metrics=['accuracy'])\n",
    "\n",
    "    return model\n",
    "\n"
   ]
  },
  {
   "cell_type": "code",
   "execution_count": 61,
   "id": "e8ffc984",
   "metadata": {
    "scrolled": true
   },
   "outputs": [],
   "source": [
    "model = CNN_BiLSTM_model(sequence_length, vocabulary_size, embedding_dim, embedding_matrix, num_filters, kernel_size, lstm_units, units, learning_rate) "
   ]
  },
  {
   "cell_type": "code",
   "execution_count": 62,
   "id": "be6c9cd4",
   "metadata": {},
   "outputs": [
    {
     "name": "stdout",
     "output_type": "stream",
     "text": [
      "Epoch 1/20\n",
      "\u001b[1m72/72\u001b[0m \u001b[32m━━━━━━━━━━━━━━━━━━━━\u001b[0m\u001b[37m\u001b[0m \u001b[1m109s\u001b[0m 1s/step - accuracy: 0.3324 - loss: 0.3782 - val_accuracy: 0.5600 - val_loss: 0.2791\n",
      "Epoch 2/20\n",
      "\u001b[1m72/72\u001b[0m \u001b[32m━━━━━━━━━━━━━━━━━━━━\u001b[0m\u001b[37m\u001b[0m \u001b[1m85s\u001b[0m 1s/step - accuracy: 0.5420 - loss: 0.2799 - val_accuracy: 0.5800 - val_loss: 0.2579\n",
      "Epoch 3/20\n",
      "\u001b[1m72/72\u001b[0m \u001b[32m━━━━━━━━━━━━━━━━━━━━\u001b[0m\u001b[37m\u001b[0m \u001b[1m75s\u001b[0m 1s/step - accuracy: 0.6062 - loss: 0.2514 - val_accuracy: 0.6662 - val_loss: 0.2440\n",
      "Epoch 4/20\n",
      "\u001b[1m72/72\u001b[0m \u001b[32m━━━━━━━━━━━━━━━━━━━━\u001b[0m\u001b[37m\u001b[0m \u001b[1m76s\u001b[0m 1s/step - accuracy: 0.6317 - loss: 0.2378 - val_accuracy: 0.6450 - val_loss: 0.2292\n",
      "Epoch 5/20\n",
      "\u001b[1m72/72\u001b[0m \u001b[32m━━━━━━━━━━━━━━━━━━━━\u001b[0m\u001b[37m\u001b[0m \u001b[1m75s\u001b[0m 1s/step - accuracy: 0.6511 - loss: 0.2263 - val_accuracy: 0.6938 - val_loss: 0.2209\n",
      "Epoch 6/20\n",
      "\u001b[1m72/72\u001b[0m \u001b[32m━━━━━━━━━━━━━━━━━━━━\u001b[0m\u001b[37m\u001b[0m \u001b[1m76s\u001b[0m 1s/step - accuracy: 0.6668 - loss: 0.2122 - val_accuracy: 0.6787 - val_loss: 0.2174\n",
      "Epoch 7/20\n",
      "\u001b[1m72/72\u001b[0m \u001b[32m━━━━━━━━━━━━━━━━━━━━\u001b[0m\u001b[37m\u001b[0m \u001b[1m85s\u001b[0m 1s/step - accuracy: 0.6698 - loss: 0.2063 - val_accuracy: 0.6862 - val_loss: 0.2205\n",
      "Epoch 8/20\n",
      "\u001b[1m72/72\u001b[0m \u001b[32m━━━━━━━━━━━━━━━━━━━━\u001b[0m\u001b[37m\u001b[0m \u001b[1m79s\u001b[0m 1s/step - accuracy: 0.6787 - loss: 0.2041 - val_accuracy: 0.6988 - val_loss: 0.2091\n",
      "Epoch 9/20\n",
      "\u001b[1m72/72\u001b[0m \u001b[32m━━━━━━━━━━━━━━━━━━━━\u001b[0m\u001b[37m\u001b[0m \u001b[1m75s\u001b[0m 1s/step - accuracy: 0.6893 - loss: 0.1927 - val_accuracy: 0.6900 - val_loss: 0.2082\n",
      "Epoch 10/20\n",
      "\u001b[1m72/72\u001b[0m \u001b[32m━━━━━━━━━━━━━━━━━━━━\u001b[0m\u001b[37m\u001b[0m \u001b[1m75s\u001b[0m 1s/step - accuracy: 0.6998 - loss: 0.1876 - val_accuracy: 0.6787 - val_loss: 0.2072\n",
      "Epoch 11/20\n",
      "\u001b[1m72/72\u001b[0m \u001b[32m━━━━━━━━━━━━━━━━━━━━\u001b[0m\u001b[37m\u001b[0m \u001b[1m76s\u001b[0m 1s/step - accuracy: 0.7063 - loss: 0.1830 - val_accuracy: 0.6687 - val_loss: 0.2080\n",
      "Epoch 12/20\n",
      "\u001b[1m72/72\u001b[0m \u001b[32m━━━━━━━━━━━━━━━━━━━━\u001b[0m\u001b[37m\u001b[0m \u001b[1m75s\u001b[0m 1s/step - accuracy: 0.7158 - loss: 0.1795 - val_accuracy: 0.6938 - val_loss: 0.2067\n",
      "Epoch 13/20\n",
      "\u001b[1m72/72\u001b[0m \u001b[32m━━━━━━━━━━━━━━━━━━━━\u001b[0m\u001b[37m\u001b[0m \u001b[1m79s\u001b[0m 1s/step - accuracy: 0.7154 - loss: 0.1799 - val_accuracy: 0.6875 - val_loss: 0.2116\n",
      "Epoch 14/20\n",
      "\u001b[1m72/72\u001b[0m \u001b[32m━━━━━━━━━━━━━━━━━━━━\u001b[0m\u001b[37m\u001b[0m \u001b[1m76s\u001b[0m 1s/step - accuracy: 0.7236 - loss: 0.1726 - val_accuracy: 0.6888 - val_loss: 0.2117\n",
      "Epoch 15/20\n",
      "\u001b[1m72/72\u001b[0m \u001b[32m━━━━━━━━━━━━━━━━━━━━\u001b[0m\u001b[37m\u001b[0m \u001b[1m87s\u001b[0m 1s/step - accuracy: 0.7247 - loss: 0.1684 - val_accuracy: 0.7038 - val_loss: 0.2086\n",
      "Epoch 16/20\n",
      "\u001b[1m72/72\u001b[0m \u001b[32m━━━━━━━━━━━━━━━━━━━━\u001b[0m\u001b[37m\u001b[0m \u001b[1m80s\u001b[0m 1s/step - accuracy: 0.7279 - loss: 0.1647 - val_accuracy: 0.6825 - val_loss: 0.2093\n",
      "Epoch 17/20\n",
      "\u001b[1m72/72\u001b[0m \u001b[32m━━━━━━━━━━━━━━━━━━━━\u001b[0m\u001b[37m\u001b[0m \u001b[1m76s\u001b[0m 1s/step - accuracy: 0.7377 - loss: 0.1598 - val_accuracy: 0.6988 - val_loss: 0.2079\n",
      "Epoch 18/20\n",
      "\u001b[1m72/72\u001b[0m \u001b[32m━━━━━━━━━━━━━━━━━━━━\u001b[0m\u001b[37m\u001b[0m \u001b[1m78s\u001b[0m 1s/step - accuracy: 0.7474 - loss: 0.1607 - val_accuracy: 0.6850 - val_loss: 0.2104\n",
      "Epoch 19/20\n",
      "\u001b[1m72/72\u001b[0m \u001b[32m━━━━━━━━━━━━━━━━━━━━\u001b[0m\u001b[37m\u001b[0m \u001b[1m77s\u001b[0m 1s/step - accuracy: 0.7443 - loss: 0.1522 - val_accuracy: 0.6800 - val_loss: 0.2040\n",
      "Epoch 20/20\n",
      "\u001b[1m72/72\u001b[0m \u001b[32m━━━━━━━━━━━━━━━━━━━━\u001b[0m\u001b[37m\u001b[0m \u001b[1m83s\u001b[0m 1s/step - accuracy: 0.7501 - loss: 0.1522 - val_accuracy: 0.6762 - val_loss: 0.2100\n",
      "CPU times: user 1h 30min 28s, sys: 49min 7s, total: 2h 19min 35s\n",
      "Wall time: 26min 38s\n"
     ]
    }
   ],
   "source": [
    "%%time \n",
    "\n",
    "import time \n",
    "\n",
    "# Training CNN-BiLSTM with our own embeddings \n",
    "\n",
    "history = model.fit([X_train_claim_seq,X_train_desc_seq], Y_train,  # class_weight=class_weight_dict,\n",
    "                   batch_size=batch_size,\n",
    "                   epochs=epochs,\n",
    "                   verbose=1,\n",
    "                   validation_split=0.1)\n",
    "time.sleep(1)"
   ]
  },
  {
   "cell_type": "markdown",
   "id": "6fea5be2",
   "metadata": {},
   "source": [
    "# Evaluation "
   ]
  },
  {
   "cell_type": "code",
   "execution_count": 63,
   "id": "9c1fc8dc",
   "metadata": {},
   "outputs": [],
   "source": [
    "def model_predict(model,X_test):\n",
    "    pred_proba = model.predict(X_test)\n",
    "    return (pred_proba)\n",
    "\n",
    "def get_pred_classes(pred_proba, number_of_cpc=1):\n",
    "    pred_proba = np.array(pred_proba)\n",
    "    preds = np.zeros_like(pred_proba)\n",
    "\n",
    "    pred_prob_cpc = []\n",
    "    for i in range(pred_proba.shape[0]):\n",
    "        idxs = np.argsort(pred_proba[i])[::-1][:number_of_cpc]\n",
    "        pred_prob_cpc.append(pred_proba[i, idxs])\n",
    "        preds[i, idxs] = 1\n",
    "\n",
    "    pred_prob_cpc = np.array(pred_prob_cpc)\n",
    "    return pred_prob_cpc, preds"
   ]
  },
  {
   "cell_type": "code",
   "execution_count": 64,
   "id": "ff1ccc28",
   "metadata": {},
   "outputs": [
    {
     "name": "stdout",
     "output_type": "stream",
     "text": [
      "\u001b[1m63/63\u001b[0m \u001b[32m━━━━━━━━━━━━━━━━━━━━\u001b[0m\u001b[37m\u001b[0m \u001b[1m9s\u001b[0m 140ms/step\n"
     ]
    }
   ],
   "source": [
    "pred_proba = model_predict(model,[X_test_claim_seq,X_test_desc_seq])"
   ]
  },
  {
   "cell_type": "code",
   "execution_count": 65,
   "id": "5ef9d86c",
   "metadata": {},
   "outputs": [],
   "source": [
    "pred_prob_cpc,pred_classes = get_pred_classes(pred_proba, number_of_cpc = 2)"
   ]
  },
  {
   "cell_type": "markdown",
   "id": "336be861",
   "metadata": {},
   "source": [
    "# CNN+BiLSTM Model Results with our trained word2vec embeddings "
   ]
  },
  {
   "cell_type": "markdown",
   "id": "73173c5b",
   "metadata": {},
   "source": [
    "**Precision**: Measures the proportion of correctly predicted positive cases out of all predicted positives. It answers: How many of the predicted positives are actually correct?\n",
    "\n",
    "**Recall**: Measures the proportion of correctly predicted positive cases out of all actual positives. It answers: How many of the actual positives did we correctly identify?\n",
    " \n",
    "**F1-Score**: The harmonic mean of precision and recall, providing a balanced measure when both are important."
   ]
  },
  {
   "cell_type": "markdown",
   "id": "a63e0d5b",
   "metadata": {},
   "source": [
    "## Top 2 labels prediction "
   ]
  },
  {
   "cell_type": "code",
   "execution_count": 66,
   "id": "67998de3",
   "metadata": {
    "scrolled": true
   },
   "outputs": [
    {
     "name": "stdout",
     "output_type": "stream",
     "text": [
      "Shape of Y_test: (2000, 9)\n",
      "Shape of pred_classes: (2000, 9)\n",
      "Precision: 0.58425\n",
      "Recall: 0.8440416666666667\n",
      "F1 Score: 0.6647666666666665\n"
     ]
    }
   ],
   "source": [
    "# Check the dimensions of the data\n",
    "print(f\"Shape of Y_test: {Y_test.shape}\")\n",
    "print(f\"Shape of pred_classes: {pred_classes.shape}\")\n",
    "\n",
    "# Calculate metrics\n",
    "if Y_test.shape == pred_classes.shape:\n",
    "    print(\"Precision:\", metrics.precision_score(Y_test, pred_classes, average='samples'))\n",
    "    print(\"Recall:\", metrics.recall_score(Y_test, pred_classes, average='samples'))\n",
    "    print(\"F1 Score:\", metrics.f1_score(Y_test, pred_classes, average='samples'))\n",
    "else:\n",
    "    print(\"The dimensions of Y_test and pred_classes do not match.\")"
   ]
  },
  {
   "cell_type": "code",
   "execution_count": 67,
   "id": "666f4d82",
   "metadata": {},
   "outputs": [
    {
     "data": {
      "text/plain": [
       "<matplotlib.legend.Legend at 0x212b90980>"
      ]
     },
     "execution_count": 67,
     "metadata": {},
     "output_type": "execute_result"
    }
   ],
   "source": [
    "# Ploting the loss \n",
    "\n",
    "plt.figure(figsize=(15,5))\n",
    "N = epochs\n",
    "plt.plot(np.arange(0, N), history.history[\"loss\"], label=\"train_loss\")\n",
    "plt.plot(np.arange(0, N), history.history[\"val_loss\"], label=\"val_loss\")\n",
    "plt.title(\"Training Loss\")\n",
    "plt.xlabel(\"Epochs\")\n",
    "plt.grid()\n",
    "plt.ylabel(\"Cross-Entropy Loss\")\n",
    "plt.legend(loc=\"upper right\")"
   ]
  },
  {
   "cell_type": "markdown",
   "id": "e540aab4",
   "metadata": {},
   "source": [
    "# Error Analysis"
   ]
  },
  {
   "cell_type": "code",
   "execution_count": 68,
   "id": "aacb3538",
   "metadata": {},
   "outputs": [],
   "source": [
    "def get_df_with_results(pred_proba, cpc=1):\n",
    "    all_cpc = mlb.classes_\n",
    "    pred_prob_cpc, pred_classes = get_pred_classes(pred_proba, number_of_cpc=cpc)\n",
    "\n",
    "    # Getting the predicted and actual labels in each patent in the test set\n",
    "    predicted_cpc = [all_cpc[np.argsort(pred_proba[i])[::-1][:cpc]] for i in range(pred_proba.shape[0])]\n",
    "    actual_cpc = [list(mlb.inverse_transform(Y_test)[i]) for i in range(pred_proba.shape[0])]\n",
    "\n",
    "    # Getting the individual precisions and recalls\n",
    "    precisions = [metrics.precision_score(Y_test[i], pred_classes[i]) for i in range(pred_proba.shape[0])]\n",
    "    recalls = [metrics.recall_score(Y_test[i], pred_classes[i]) for i in range(pred_proba.shape[0])]\n",
    "\n",
    "    # Creating a dataframe with all the results\n",
    "    df_with_results = pd.DataFrame({\n",
    "        'predicted_cpcs': predicted_cpc,\n",
    "        'pred_probability': [list(pred_prob_cpc[i]) for i in range(len(pred_prob_cpc))],\n",
    "        'actual_cpcs': actual_cpc,\n",
    "        'precision': precisions,\n",
    "        'recall': recalls\n",
    "    })\n",
    "\n",
    "    return df_with_results\n",
    "\n",
    "def calculate_total_scores(df_with_results):\n",
    "    total_prec = round(df_with_results.precision.mean(), 3)\n",
    "    total_recall = round(df_with_results.recall.mean(), 3)\n",
    "    total_f1 = round(2 * (total_prec * total_recall) / (total_prec + total_recall), 3)\n",
    "    return print(\"Precision: {}, Recall: {}, F1-score: {}\".format(total_prec, total_recall, total_f1))\n"
   ]
  },
  {
   "cell_type": "markdown",
   "id": "21b7e6b0",
   "metadata": {},
   "source": [
    "## CNN + BiLSTM"
   ]
  },
  {
   "cell_type": "markdown",
   "id": "f44ba48d",
   "metadata": {},
   "source": [
    "## Top 2 Label - Precision, Recall and F1-score "
   ]
  },
  {
   "cell_type": "code",
   "execution_count": 69,
   "id": "fda25593",
   "metadata": {},
   "outputs": [
    {
     "name": "stdout",
     "output_type": "stream",
     "text": [
      "2024-11-18 19:56:03.321511\n",
      "Precision: 0.826, Recall: 0.645, F1-score: 0.724\n",
      "2024-11-18 19:56:27.185580\n"
     ]
    }
   ],
   "source": [
    "import datetime\n",
    "print(datetime.datetime.now())\n",
    "df_with_results = get_df_with_results(pred_proba,cpc=1)\n",
    "calculate_total_scores(df_with_results)\n",
    "print(datetime.datetime.now())"
   ]
  },
  {
   "cell_type": "code",
   "execution_count": 70,
   "id": "026d0d6d",
   "metadata": {},
   "outputs": [
    {
     "name": "stdout",
     "output_type": "stream",
     "text": [
      "Precision: 0.826, Recall: 0.645, F1-score: 0.724\n"
     ]
    }
   ],
   "source": [
    "df_with_results_2 = get_df_with_results(pred_proba,cpc=2)\n",
    "calculate_total_scores(df_with_results)"
   ]
  },
  {
   "cell_type": "code",
   "execution_count": 71,
   "id": "ebfbf262",
   "metadata": {},
   "outputs": [
    {
     "data": {
      "text/html": [
       "<div>\n",
       "<style scoped>\n",
       "    .dataframe tbody tr th:only-of-type {\n",
       "        vertical-align: middle;\n",
       "    }\n",
       "\n",
       "    .dataframe tbody tr th {\n",
       "        vertical-align: top;\n",
       "    }\n",
       "\n",
       "    .dataframe thead th {\n",
       "        text-align: right;\n",
       "    }\n",
       "</style>\n",
       "<table border=\"1\" class=\"dataframe\">\n",
       "  <thead>\n",
       "    <tr style=\"text-align: right;\">\n",
       "      <th></th>\n",
       "      <th>predicted_cpcs</th>\n",
       "      <th>pred_probability</th>\n",
       "      <th>actual_cpcs</th>\n",
       "      <th>precision</th>\n",
       "      <th>recall</th>\n",
       "    </tr>\n",
       "  </thead>\n",
       "  <tbody>\n",
       "    <tr>\n",
       "      <th>0</th>\n",
       "      <td>[c, b]</td>\n",
       "      <td>[0.9930345, 0.27455673]</td>\n",
       "      <td>[c]</td>\n",
       "      <td>0.5</td>\n",
       "      <td>1.0</td>\n",
       "    </tr>\n",
       "    <tr>\n",
       "      <th>1</th>\n",
       "      <td>[h, y]</td>\n",
       "      <td>[0.9659968, 0.96256787]</td>\n",
       "      <td>[h, y]</td>\n",
       "      <td>1.0</td>\n",
       "      <td>1.0</td>\n",
       "    </tr>\n",
       "    <tr>\n",
       "      <th>2</th>\n",
       "      <td>[h, y]</td>\n",
       "      <td>[0.99846655, 0.0586969]</td>\n",
       "      <td>[h]</td>\n",
       "      <td>0.5</td>\n",
       "      <td>1.0</td>\n",
       "    </tr>\n",
       "    <tr>\n",
       "      <th>3</th>\n",
       "      <td>[a, c]</td>\n",
       "      <td>[0.9554879, 0.8941402]</td>\n",
       "      <td>[a]</td>\n",
       "      <td>0.5</td>\n",
       "      <td>1.0</td>\n",
       "    </tr>\n",
       "    <tr>\n",
       "      <th>4</th>\n",
       "      <td>[b, y]</td>\n",
       "      <td>[0.98430425, 0.44510323]</td>\n",
       "      <td>[b]</td>\n",
       "      <td>0.5</td>\n",
       "      <td>1.0</td>\n",
       "    </tr>\n",
       "  </tbody>\n",
       "</table>\n",
       "</div>"
      ],
      "text/plain": [
       "  predicted_cpcs          pred_probability actual_cpcs  precision  recall\n",
       "0         [c, b]   [0.9930345, 0.27455673]         [c]        0.5     1.0\n",
       "1         [h, y]   [0.9659968, 0.96256787]      [h, y]        1.0     1.0\n",
       "2         [h, y]   [0.99846655, 0.0586969]         [h]        0.5     1.0\n",
       "3         [a, c]    [0.9554879, 0.8941402]         [a]        0.5     1.0\n",
       "4         [b, y]  [0.98430425, 0.44510323]         [b]        0.5     1.0"
      ]
     },
     "execution_count": 71,
     "metadata": {},
     "output_type": "execute_result"
    }
   ],
   "source": [
    "df_with_results_2.head()"
   ]
  },
  {
   "cell_type": "code",
   "execution_count": 72,
   "id": "a13f91c8",
   "metadata": {},
   "outputs": [],
   "source": [
    "# Get the list of CPCs that were misclassified for each document\n",
    "delta = []\n",
    "for i in range(df_with_results.shape[0]):\n",
    "    delta.append(list(set(df_with_results.iloc[i].actual_cpcs).difference(set(df_with_results.iloc[i].predicted_cpcs))))\n",
    "\n",
    "erroneous_cpcs = Counter()\n",
    "\n",
    "for i in delta:\n",
    "    if i is not None:\n",
    "        erroneous_cpcs.update(i)"
   ]
  },
  {
   "cell_type": "code",
   "execution_count": 73,
   "id": "bfec9668",
   "metadata": {},
   "outputs": [],
   "source": [
    "# Get the list of CPCs that were classified correctly for each document\n",
    "delta_correct = []\n",
    "for i in range(df_with_results.shape[0]):\n",
    "    delta_correct.append(list(set(df_with_results.iloc[i].predicted_cpcs).intersection(set(df_with_results.iloc[i].actual_cpcs))))\n",
    "\n",
    "correct_cpcs = Counter()\n",
    "\n",
    "for i in delta_correct:\n",
    "    if i is not None:\n",
    "        correct_cpcs.update(i)\n"
   ]
  },
  {
   "cell_type": "code",
   "execution_count": 74,
   "id": "c440adc2",
   "metadata": {},
   "outputs": [
    {
     "name": "stderr",
     "output_type": "stream",
     "text": [
      "python(22809) MallocStackLogging: can't turn off malloc stack logging because it was not enabled.\n"
     ]
    },
    {
     "name": "stdout",
     "output_type": "stream",
     "text": [
      "  Sub_Class  Correct_predictions  Erroneous_Predictions  Error_percentage  \\\n",
      "0         y                   20                    247         92.509363   \n",
      "7         d                    6                     19         76.000000   \n",
      "4         b                  256                    240         48.387097   \n",
      "8         e                   29                     27         48.214286   \n",
      "6         a                  182                    142         43.827160   \n",
      "2         h                  402                    240         37.383178   \n",
      "3         f                  172                     87         33.590734   \n",
      "1         g                  408                    190         31.772575   \n",
      "5         c                  177                     76         30.039526   \n",
      "\n",
      "   no_of_test_documents  no_of_training_documents  \n",
      "0                   267                      1107  \n",
      "7                    25                       135  \n",
      "4                   496                      1956  \n",
      "8                    56                       227  \n",
      "6                   324                      1258  \n",
      "2                   642                      2572  \n",
      "3                   259                      1052  \n",
      "1                   598                      2423  \n",
      "5                   253                      1031  \n"
     ]
    }
   ],
   "source": [
    "import seaborn as sns\n",
    "\n",
    "Result_analysis = pd.DataFrame([\n",
    "    [k, correct_cpcs[k], erroneous_cpcs[k], \n",
    "     erroneous_cpcs[k] * 100 / (erroneous_cpcs[k] + correct_cpcs[k]), \n",
    "     correct_cpcs[k] + erroneous_cpcs[k], \n",
    "     pl[k] - (correct_cpcs[k] + erroneous_cpcs[k])]\n",
    "    for k in erroneous_cpcs\n",
    "], columns=['Sub_Class', 'Correct_predictions', 'Erroneous_Predictions', \n",
    "            'Error_percentage', 'no_of_test_documents', 'no_of_training_documents']) \\\n",
    "    .sort_values(by='Error_percentage', ascending=False)\n",
    "\n",
    "# Displaying the dataframe\n",
    "print(Result_analysis)\n"
   ]
  },
  {
   "cell_type": "code",
   "execution_count": 75,
   "id": "4a9fbbdb",
   "metadata": {},
   "outputs": [
    {
     "data": {
      "image/png": "[encoded data removed]",
      "text/plain": [
       "<Figure size 1500x500 with 1 Axes>"
      ]
     },
     "metadata": {},
     "output_type": "display_data"
    },
    {
     "data": {
      "image/png": "[encoded data removed]",
      "text/plain": [
       "<Figure size 1500x1000 with 1 Axes>"
      ]
     },
     "metadata": {},
     "output_type": "display_data"
    }
   ],
   "source": [
    "# Sorting by Error_percentage in descending order\n",
    "Result_analysis = Result_analysis.sort_values(by='Error_percentage', ascending=False)\n",
    "\n",
    "# Create the bar plot\n",
    "fig, ax = plt.subplots(figsize=(15, 10))\n",
    "\n",
    "# Plotting all 9 CPCs\n",
    "g = sns.barplot(y=\"no_of_training_documents\", x=\"Sub_Class\", edgecolor=\".6\",\n",
    "                data=Result_analysis, ax=ax)\n",
    "\n",
    "# Rotate x-axis labels for better visibility\n",
    "g.set_xticklabels(g.get_xticklabels(), rotation=90)\n",
    "\n",
    "# Set plot title\n",
    "g.set_title('Number of Training Documents by CPC')\n",
    "\n",
    "# Display the plot\n",
    "plt.show()"
   ]
  },
  {
   "cell_type": "code",
   "execution_count": 76,
   "id": "feb1ad5b",
   "metadata": {},
   "outputs": [
    {
     "data": {
      "text/html": [
       "<div>\n",
       "<style scoped>\n",
       "    .dataframe tbody tr th:only-of-type {\n",
       "        vertical-align: middle;\n",
       "    }\n",
       "\n",
       "    .dataframe tbody tr th {\n",
       "        vertical-align: top;\n",
       "    }\n",
       "\n",
       "    .dataframe thead th {\n",
       "        text-align: right;\n",
       "    }\n",
       "</style>\n",
       "<table border=\"1\" class=\"dataframe\">\n",
       "  <thead>\n",
       "    <tr style=\"text-align: right;\">\n",
       "      <th></th>\n",
       "      <th>predicted_cpcs</th>\n",
       "      <th>pred_probability</th>\n",
       "      <th>actual_cpcs</th>\n",
       "      <th>precision</th>\n",
       "      <th>recall</th>\n",
       "    </tr>\n",
       "  </thead>\n",
       "  <tbody>\n",
       "    <tr>\n",
       "      <th>15</th>\n",
       "      <td>[a]</td>\n",
       "      <td>[0.94750863]</td>\n",
       "      <td>[d]</td>\n",
       "      <td>0.0</td>\n",
       "      <td>0.000000</td>\n",
       "    </tr>\n",
       "    <tr>\n",
       "      <th>44</th>\n",
       "      <td>[b]</td>\n",
       "      <td>[0.7639755]</td>\n",
       "      <td>[a, d, g]</td>\n",
       "      <td>0.0</td>\n",
       "      <td>0.000000</td>\n",
       "    </tr>\n",
       "    <tr>\n",
       "      <th>288</th>\n",
       "      <td>[b]</td>\n",
       "      <td>[0.9498903]</td>\n",
       "      <td>[b, d]</td>\n",
       "      <td>1.0</td>\n",
       "      <td>0.500000</td>\n",
       "    </tr>\n",
       "    <tr>\n",
       "      <th>692</th>\n",
       "      <td>[f]</td>\n",
       "      <td>[0.50556463]</td>\n",
       "      <td>[d, y]</td>\n",
       "      <td>0.0</td>\n",
       "      <td>0.000000</td>\n",
       "    </tr>\n",
       "    <tr>\n",
       "      <th>806</th>\n",
       "      <td>[a]</td>\n",
       "      <td>[0.83284837]</td>\n",
       "      <td>[d]</td>\n",
       "      <td>0.0</td>\n",
       "      <td>0.000000</td>\n",
       "    </tr>\n",
       "    <tr>\n",
       "      <th>935</th>\n",
       "      <td>[e]</td>\n",
       "      <td>[0.59024686]</td>\n",
       "      <td>[d]</td>\n",
       "      <td>0.0</td>\n",
       "      <td>0.000000</td>\n",
       "    </tr>\n",
       "    <tr>\n",
       "      <th>1035</th>\n",
       "      <td>[b]</td>\n",
       "      <td>[0.8779241]</td>\n",
       "      <td>[b, d, e]</td>\n",
       "      <td>1.0</td>\n",
       "      <td>0.333333</td>\n",
       "    </tr>\n",
       "    <tr>\n",
       "      <th>1099</th>\n",
       "      <td>[f]</td>\n",
       "      <td>[0.71407366]</td>\n",
       "      <td>[d]</td>\n",
       "      <td>0.0</td>\n",
       "      <td>0.000000</td>\n",
       "    </tr>\n",
       "    <tr>\n",
       "      <th>1148</th>\n",
       "      <td>[c]</td>\n",
       "      <td>[0.9816444]</td>\n",
       "      <td>[c, d]</td>\n",
       "      <td>1.0</td>\n",
       "      <td>0.500000</td>\n",
       "    </tr>\n",
       "    <tr>\n",
       "      <th>1307</th>\n",
       "      <td>[f]</td>\n",
       "      <td>[0.8195114]</td>\n",
       "      <td>[d]</td>\n",
       "      <td>0.0</td>\n",
       "      <td>0.000000</td>\n",
       "    </tr>\n",
       "  </tbody>\n",
       "</table>\n",
       "</div>"
      ],
      "text/plain": [
       "     predicted_cpcs pred_probability actual_cpcs  precision    recall\n",
       "15              [a]     [0.94750863]         [d]        0.0  0.000000\n",
       "44              [b]      [0.7639755]   [a, d, g]        0.0  0.000000\n",
       "288             [b]      [0.9498903]      [b, d]        1.0  0.500000\n",
       "692             [f]     [0.50556463]      [d, y]        0.0  0.000000\n",
       "806             [a]     [0.83284837]         [d]        0.0  0.000000\n",
       "935             [e]     [0.59024686]         [d]        0.0  0.000000\n",
       "1035            [b]      [0.8779241]   [b, d, e]        1.0  0.333333\n",
       "1099            [f]     [0.71407366]         [d]        0.0  0.000000\n",
       "1148            [c]      [0.9816444]      [c, d]        1.0  0.500000\n",
       "1307            [f]      [0.8195114]         [d]        0.0  0.000000"
      ]
     },
     "execution_count": 76,
     "metadata": {},
     "output_type": "execute_result"
    }
   ],
   "source": [
    "# Getting some examples on the classfication for the class 'd'\n",
    "\n",
    "delta_incorrect_d=[]\n",
    "for i,d in enumerate(delta):\n",
    "    if 'd' in d:\n",
    "        delta_incorrect_d.append(i)\n",
    "\n",
    "\n",
    "df_with_results.iloc[delta_incorrect_d].head(10)"
   ]
  }
 ],
 "metadata": {
  "kernelspec": {
   "display_name": "Python 3 (ipykernel)",
   "language": "python",
   "name": "python3"
  },
  "language_info": {
   "codemirror_mode": {
    "name": "ipython",
    "version": 3
   },
   "file_extension": ".py",
   "mimetype": "text/x-python",
   "name": "python",
   "nbconvert_exporter": "python",
   "pygments_lexer": "ipython3",
   "version": "3.12.7"
  }
 },
 "nbformat": 4,
 "nbformat_minor": 5
}
